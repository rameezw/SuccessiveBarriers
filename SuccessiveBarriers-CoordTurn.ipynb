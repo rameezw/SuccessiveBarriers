{
 "cells": [
  {
   "cell_type": "code",
   "execution_count": null,
   "id": "7ce73e0c",
   "metadata": {
    "ExecuteTime": {
     "end_time": "2024-06-13T17:31:45.979000-06:00"
    }
   },
   "outputs": [],
   "source": [
    "include(\"BarrierSynthesis.jl\")"
   ]
  },
  {
   "cell_type": "markdown",
   "id": "1062fdc0",
   "metadata": {},
   "source": [
    "# 0. Init system variable and parameters"
   ]
  },
  {
   "cell_type": "code",
   "execution_count": null,
   "id": "26aa3d76",
   "metadata": {
    "ExecuteTime": {
     "end_time": "2024-06-13T17:31:52.495000-06:00"
    }
   },
   "outputs": [],
   "source": [
    "#init state and input variables\n",
    "@polyvar u[1:2]\n",
    "@polyvar(x[1:6]) # x[1] is x, x[2] is y, x[3] is vel, x[4] is θ, x[5] is ω, x[6] is error\n",
    "\n",
    "#define system dynamics\n",
    "dynamics = [\n",
    "        (ctrl -> [x[3]*(2.0/π)*(x[4] + π/2.0)-0.2x[6],x[3]*(-2.0/π)*(x[4]+π)-0.2x[6], ctrl[1], x[5], ctrl[2], 0.]),\n",
    "        (ctrl -> [x[3]*(2.0/π)*(x[4] + π/2.0)-0.2x[6],x[3]*(2.0/π)*x[4]+0.2x[6], ctrl[1], x[5], ctrl[2], 0]),\n",
    "        (ctrl -> [x[3]*(-2.0/π)*(x[4] - π/2.0)+0.2x[6],x[3]*(2.0/π)*x[4]+0.2x[6], ctrl[1], x[5], ctrl[2], 0]),\n",
    "        (ctrl -> [x[3]*(-2.0/π)*(x[4] - π/2.0)+0.2x[6],x[3]*(-2.0/π)*(x[4]-π)-0.2x[6], ctrl[1], x[5], ctrl[2], 0]),\n",
    "    ] \n",
    "\n",
    "#define unsafe set (obstacle)\n",
    "g = 0.1^2 - x[1]^2 - x[2]^2 # Obstacle: is a (x,y) ball of radius 0.1 around origin\n",
    "\n",
    "#state and input bounds\n",
    "bounds = [[-10., 10.], [-10., 10.], [-5.,5.],[-π,π], [-5.,5.],[-1.,1.]]"
   ]
  },
  {
   "cell_type": "code",
   "execution_count": null,
   "id": "b89e2935",
   "metadata": {
    "ExecuteTime": {
     "end_time": "2024-06-13T17:31:52.713000-06:00",
     "start_time": "2024-06-13T23:31:33.122Z"
    }
   },
   "outputs": [],
   "source": [
    "vector_field = [\n",
    "        ([x[3]*(2.0/π)*(x[4] + π/2.0)-0.2x[6],x[3]*(-2.0/π)*(x[4]+π)-0.2x[6], u[1], x[5], u[2], 0.]),\n",
    "        ([x[3]*(2.0/π)*(x[4] + π/2.0)-0.2x[6],x[3]*(2.0/π)*x[4]+0.2x[6], u[1], x[5], u[2], 0]),\n",
    "        ([x[3]*(-2.0/π)*(x[4] - π/2.0)+0.2x[6],x[3]*(2.0/π)*x[4]+0.2x[6], u[1], x[5], u[2], 0]),\n",
    "        ([x[3]*(-2.0/π)*(x[4] - π/2.0)+0.2x[6],x[3]*(-2.0/π)*(x[4]-π)-0.2x[6],u[1], x[5], u[2], 0]),\n",
    "]"
   ]
  },
  {
   "cell_type": "code",
   "execution_count": null,
   "id": "bdd7b80e",
   "metadata": {
    "ExecuteTime": {
     "end_time": "2024-06-13T17:31:52.729000-06:00",
     "start_time": "2024-06-13T23:31:33.793Z"
    }
   },
   "outputs": [],
   "source": [
    "#instantiate parameters\n",
    "λ = 1\n",
    "ϵ = 1\n",
    "max_degree=4\n",
    "ul = 5.\n",
    "U = [[-ul, -ul], [-ul, ul], [ul, -ul], [ul, ul]]\n",
    "n_tests = 900\n",
    "u_bounds = [[-ul, ul], [-ul, ul]]"
   ]
  },
  {
   "cell_type": "code",
   "execution_count": null,
   "id": "8c0e6a53",
   "metadata": {
    "ExecuteTime": {
     "end_time": "2024-06-13T17:31:52.968000-06:00",
     "start_time": "2024-06-13T23:31:34.529Z"
    }
   },
   "outputs": [],
   "source": [
    "# generate test points\n",
    "test_pts = [ get_random(bounds, g) for _ in 1:n_tests];"
   ]
  },
  {
   "cell_type": "markdown",
   "id": "75288956",
   "metadata": {},
   "source": [
    "# 1. Computing initial set of barriers for each input U_i"
   ]
  },
  {
   "cell_type": "code",
   "execution_count": null,
   "id": "97267cc0",
   "metadata": {},
   "outputs": [],
   "source": [
    "# function to comupte transit time for each barrier \n",
    "\n",
    "function refine_barrier(x, u, bounds, u_bounds, g, vectorField, B, B_dot; ϵ = 0.25, κ = 50.)\n",
    "    function prepare_domain_hybrid(var, lb, ub)\n",
    "        dom = @set(var >= lb) ∩ @set(var <= ub) ∩ @set( (var-lb)*(ub-var) >= 0)\n",
    "        return dom\n",
    "    end\n",
    "    solver = optimizer_with_attributes(CSDP.Optimizer)\n",
    "    model = SOSModel(solver)\n",
    "    dom_list = prepare_domain(x, bounds)\n",
    "    dom_list_u = prepare_domain(u, u_bounds)\n",
    "    dom_list = append!(dom_list, dom_list_u)\n",
    "    dom = reduce( (s1, s2) -> s1 ∩ s2, dom_list)\n",
    "#     println(\"Domain: $dom\")\n",
    "    # negative inside the obstacle\n",
    "    monos = monomials(x, 0:max_degree)\n",
    "    N = length(monos) \n",
    "    @variable(model, η)\n",
    "    @variable(model, δ >=0)\n",
    "#     @variable(model, 0 <= B <= κ)\n",
    "#     @variable(model, B_dot)\n",
    "    \n",
    "#     B_dot = dot(differentiate(B,x), vectorField)\n",
    "    dom3 = dom ∩ @set(B >= 0) ∩ @set(B <= κ)\n",
    "    for (j,B_dot_j) in enumerate(B_dot)\n",
    "        dom_j = prepare_domain_hybrid(x[4], (j-3) * π/2, (j-2) * π/2)\n",
    "        @constraint(model, -η*B - δ <= B_dot_j, domain=dom3 ∩ dom_j)\n",
    "    end\n",
    "        @constraint(model, η*κ + δ >= 0)\n",
    "\n",
    "    #set_objective_sense(model, MOI.FEASIBILITY_SENSE)\n",
    "    @objective(model, Min, δ)\n",
    "    JuMP.optimize!(model)\n",
    "    stat = JuMP.primal_status(model)\n",
    "    if stat != FEASIBLE_POINT\n",
    "        return missing\n",
    "    end\n",
    "    # found feasible point\n",
    "    println(solution_summary(model))\n",
    "    println(\"η = $(value(η))\")\n",
    "    println(\"δ = $(value(δ))\")\n",
    "    τ =  (κ)/max(value(δ),value(η) *  κ + value(δ))\n",
    "    println(\"τd = $(value(τ))\")\n",
    "    return τ\n",
    "end"
   ]
  },
  {
   "cell_type": "code",
   "execution_count": null,
   "id": "320408ca",
   "metadata": {
    "ExecuteTime": {
     "end_time": "2024-06-13T17:32:37.436000-06:00",
     "start_time": "2024-06-13T23:32:35.412Z"
    },
    "scrolled": true
   },
   "outputs": [],
   "source": [
    "elapsed1 = @elapsed begin\n",
    "B_1, B_1d, lm1 = findBarrierFixedControlInput_HybridCT(x,U[1],g,dynamics,vector_field,test_pts)\n",
    "end\n",
    "display(B_1)\n",
    "t_1 = refine_barrier(x, u, bounds, u_bounds, g, dynamics, B_1,  B_1d)\n",
    "test_pts = filter!(pt -> B_1(pt...) <= 0., test_pts)"
   ]
  },
  {
   "cell_type": "code",
   "execution_count": null,
   "id": "02129f27",
   "metadata": {},
   "outputs": [],
   "source": [
    "elapsed2 = @elapsed begin\n",
    "B_2, B_2d, lm2 = findBarrierFixedControlInput_HybridCT(x,U[2],g,dynamics,vector_field,test_pts)\n",
    "end\n",
    "display(B_2)\n",
    "# display(B_2d)\n",
    "t_2 = refine_barrier(x, u, bounds, u_bounds, g, dynamics, B_2,  B_2d)\n",
    "test_pts = filter!(pt -> B_2(pt...) <= 0., test_pts)"
   ]
  },
  {
   "cell_type": "code",
   "execution_count": null,
   "id": "d2c06e4e",
   "metadata": {
    "ExecuteTime": {
     "end_time": "2024-06-13T20:16:20.689000-06:00",
     "start_time": "2024-06-14T02:15:32.412Z"
    }
   },
   "outputs": [],
   "source": [
    "elapsed3 = @elapsed begin\n",
    "B_3, B_3d, lm3 = findBarrierFixedControlInput_HybridCT(x,U[3],g,dynamics,vector_field,test_pts)\n",
    "end\n",
    "display(B_3)\n",
    "# display(B_3d)\n",
    "t_3 = refine_barrier(x, u, bounds, u_bounds, g, dynamics, B_3,  B_3d)\n",
    "test_pts = filter!(pt -> B_3(pt...) <= 0., test_pts)"
   ]
  },
  {
   "cell_type": "code",
   "execution_count": null,
   "id": "a5d12098",
   "metadata": {
    "ExecuteTime": {
     "end_time": "2024-06-13T20:16:25.377000-06:00",
     "start_time": "2024-06-14T02:15:32.418Z"
    }
   },
   "outputs": [],
   "source": [
    "elapsed4 = @elapsed begin\n",
    "B_4, B_4d, lm4 = findBarrierFixedControlInput_HybridCT(x,U[4],g,dynamics,vector_field,test_pts)\n",
    "end\n",
    "display(B_4)\n",
    "# display(B_4d)\n",
    "t_4 = refine_barrier(x, u, bounds, u_bounds, g, dynamics, B_4,  B_4d)\n",
    "test_pts = filter!(pt -> B_4(pt...) <= 0., test_pts)"
   ]
  },
  {
   "cell_type": "code",
   "execution_count": null,
   "id": "e740c07f",
   "metadata": {},
   "outputs": [],
   "source": []
  },
  {
   "cell_type": "code",
   "execution_count": null,
   "id": "4a848316",
   "metadata": {},
   "outputs": [],
   "source": []
  },
  {
   "cell_type": "markdown",
   "id": "4d888368",
   "metadata": {},
   "source": [
    "# 2. Computing Successive Barriers"
   ]
  },
  {
   "cell_type": "code",
   "execution_count": null,
   "id": "d208a18a",
   "metadata": {},
   "outputs": [],
   "source": [
    "# functions to compute successive barriers"
   ]
  },
  {
   "cell_type": "code",
   "execution_count": null,
   "id": "56cec9b4",
   "metadata": {
    "ExecuteTime": {
     "end_time": "2024-06-13T17:33:52.833000-06:00",
     "start_time": "2024-06-13T23:33:52.773Z"
    }
   },
   "outputs": [],
   "source": [
    "function refine_barrier_succ(x, u, bounds, u_bounds, g, vectorField, B, B_dot, ancestors; ϵ = 0.25, κ = 20.)\n",
    "    function prepare_domain_hybrid(var, lb, ub)\n",
    "        dom = @set(var >= lb) ∩ @set(var <= ub) ∩ @set( (var-lb)*(ub-var) >= 0)\n",
    "        return dom\n",
    "    end\n",
    "    solver = optimizer_with_attributes(CSDP.Optimizer)\n",
    "    model = SOSModel(solver)\n",
    "    dom_list = prepare_domain(x, bounds)\n",
    "    dom_list_u = prepare_domain(u, u_bounds)\n",
    "    dom_list = append!(dom_list, dom_list_u)\n",
    "    dom = reduce( (s1, s2) -> s1 ∩ s2, dom_list)\n",
    "#     println(\"Domain: $dom\")\n",
    "    # negative inside the obstacle\n",
    "    monos = monomials(x, 0:max_degree)\n",
    "    N = length(monos) \n",
    "    @variable(model, η)\n",
    "    @variable(model, δ >=0)\n",
    "#     @variable(model, 0 <= B <= κ)\n",
    "#     @variable(model, B_dot)\n",
    "    \n",
    "#     B_dot = dot(differentiate(B,x), vectorField)\n",
    "    if size(ancestors)[1] >= 1\n",
    "        new_domain = dom ∩ (reduce(∩, [@set(b <= 0) for b in ancestors]))\n",
    "    else\n",
    "        new_domain = dom \n",
    "    end\n",
    "    \n",
    "    dom3 = dom ∩ @set(B >= 0) ∩ @set(B <= κ)\n",
    "    for (j,B_dot_j) in enumerate(B_dot)\n",
    "        dom_j = prepare_domain_hybrid(x[4], (j-3) * π/2, (j-2) * π/2)\n",
    "        @constraint(model, -η*B - δ <= B_dot_j, domain=dom3 ∩ dom_j)\n",
    "    end\n",
    "        @constraint(model, η*κ + δ >= 0)\n",
    "\n",
    "    #set_objective_sense(model, MOI.FEASIBILITY_SENSE)\n",
    "    @objective(model, Min, δ)\n",
    "    JuMP.optimize!(model)\n",
    "    stat = JuMP.primal_status(model)\n",
    "    if stat != FEASIBLE_POINT\n",
    "        return missing\n",
    "    end\n",
    "    # found feasible point\n",
    "    println(solution_summary(model))\n",
    "    println(\"η = $(value(η))\")\n",
    "    println(\"δ = $(value(δ))\")\n",
    "    τ =  (κ)/max(value(δ),value(η) *  κ + value(δ))\n",
    "    println(\"τd = $(value(τ))\")\n",
    "    return τ\n",
    "end"
   ]
  },
  {
   "cell_type": "code",
   "execution_count": null,
   "id": "dd8b96e6",
   "metadata": {
    "ExecuteTime": {
     "end_time": "2024-06-13T17:37:07.323000-06:00",
     "start_time": "2024-06-13T23:34:49.356Z"
    },
    "scrolled": true
   },
   "outputs": [],
   "source": [
    "ancestors = [B_1, B_2, B_3, B_4]\n",
    "s_elapsed = @elapsed begin\n",
    "(second_level_barriers, test_pts_1) = compute_next_level_barriersCT(x, u, bounds, g, dynamics, vector_field, U, test_pts, ancestors)\n",
    "end"
   ]
  },
  {
   "cell_type": "code",
   "execution_count": null,
   "id": "bc118082",
   "metadata": {},
   "outputs": [],
   "source": [
    "all_barriers = [B for (B,_) in second_level_barriers]\n",
    "first_level = [B_1, B_2, B_3, B_4]"
   ]
  },
  {
   "cell_type": "code",
   "execution_count": null,
   "id": "434c339e",
   "metadata": {
    "ExecuteTime": {
     "end_time": "2024-06-13T17:40:12.380000-06:00",
     "start_time": "2024-06-13T23:38:43.677Z"
    }
   },
   "outputs": [],
   "source": [
    "ancestors2 = [ancestors; all_barriers];\n",
    "(third_level_barriers, test_pts_2) = compute_next_level_barriersCT(x, u, bounds, g, dynamics, vector_field, U, test_pts, ancestors)"
   ]
  },
  {
   "cell_type": "markdown",
   "id": "0f18557b",
   "metadata": {},
   "source": [
    "# 3. Plots"
   ]
  },
  {
   "cell_type": "code",
   "execution_count": null,
   "id": "15abf5a6",
   "metadata": {
    "ExecuteTime": {
     "end_time": "2024-06-13T17:52:19.406000-06:00",
     "start_time": "2024-06-13T23:52:19.385Z"
    }
   },
   "outputs": [],
   "source": [
    "# plotting functions\n",
    "using Plots\n",
    "using LaTeXStrings\n",
    "function circleShape(x,y, r)\n",
    "    θ = LinRange(0, 2*π, 500)\n",
    "    x .+ r*cos.(θ), y .+ r*sin.(θ)\n",
    "end\n",
    "\n",
    "function plot_ci_region3lev(limits::Tuple{Float64,Float64}, lev1_barriers::Vector{<:Polynomial}, lev2_barriers::Vector{<:Polynomial}, lev3_barriers::Vector{<:Polynomial}; x3_val=4.0, x4_val=0.0,x5_val=3.0,x6_val=0.0,\n",
    "        δ = 0.1, filestem=\"ics\")\n",
    "    plot(xlims=limits, ylims=limits, xlabel=L\"x_1\", ylabel=L\"x_3\")\n",
    "    rectangle(w, h, x, y) = Shape(x .+ [0,w,w,0], y .+ [0,0,h,h])\n",
    "    for x in limits[1]:δ:limits[2]\n",
    "        for y in limits[1]:δ:limits[2]\n",
    "            if (any([ B(x, y, x3_val, x4_val,x5_val, x6_val) > 0. for B in lev1_barriers]))\n",
    "                plot!(rectangle(δ, δ, x-δ, y-δ), label=false, fill=:seagreen1, opacity=0.5,linecolor=:seagreen1)\n",
    "            else\n",
    "                if (any([ B(x, y, x3_val, x4_val,x5_val, x6_val) > 0. for B in lev2_barriers]))\n",
    "                    plot!(rectangle(δ, δ, x-δ, y-δ), label=false, fill=:limegreen, linecolor=:limegreen)\n",
    "                else\n",
    "                    if (any([ B(x, y, x3_val, x4_val,x5_val, x6_val) > 0. for B in lev3_barriers]))\n",
    "                        plot!(rectangle(δ, δ, x-δ, y-δ), label=false, fill=:darkgreen, linecolor=:darkgreen)\n",
    "                    end\n",
    "                end \n",
    "            end\n",
    "        end\n",
    "    end\n",
    "    plot!(circleShape(0,0,0.1), seriestype =[:shape], lw=0.5, c=:black, linecolor=:black, legend=false, aspectratio=1  )\n",
    "    plot!(xlims=limits, ylims=limits)\n",
    "    filename=\"figures/$filestem.png\"\n",
    "    savefig(filename)\n",
    "    plot!(xlims=limits, ylims=limits)\n",
    "end"
   ]
  },
  {
   "cell_type": "code",
   "execution_count": null,
   "id": "8d70dee8",
   "metadata": {
    "scrolled": true
   },
   "outputs": [],
   "source": [
    "third_level = [B for (B,_) in third_level_barriers];"
   ]
  },
  {
   "cell_type": "code",
   "execution_count": null,
   "id": "3435fbab",
   "metadata": {
    "ExecuteTime": {
     "end_time": "2024-06-13T21:29:27.231000-06:00",
     "start_time": "2024-06-14T03:28:04.036Z"
    }
   },
   "outputs": [],
   "source": [
    "plot_ci_region3lev((-5.0, 5.0), first_level, all_barriers, third_level; x3_val=3.0, x4_val=0.0,x5_val=3.0,x6_val=0.0, filestem=\"Figure8-coord-turns-barriers-1\")"
   ]
  },
  {
   "cell_type": "code",
   "execution_count": null,
   "id": "e0034b3c",
   "metadata": {
    "ExecuteTime": {
     "end_time": "2024-06-13T21:30:41.339000-06:00",
     "start_time": "2024-06-14T03:28:06.599Z"
    }
   },
   "outputs": [],
   "source": [
    "plot_ci_region3lev((-5.0, 5.0), first_level, all_barriers, third_level; x3_val=4.0, x4_val=1.0,x5_val=3.0,x6_val=0.0, filestem=\"Figure8-coord-turns-barriers-2\")"
   ]
  },
  {
   "cell_type": "code",
   "execution_count": null,
   "id": "4b613a94",
   "metadata": {
    "ExecuteTime": {
     "end_time": "2024-06-13T21:30:41.339000-06:00",
     "start_time": "2024-06-14T03:28:06.599Z"
    }
   },
   "outputs": [],
   "source": [
    "plot_ci_region3lev((-5.0, 5.0), first_level, all_barriers, third_level; x3_val=-5.0, x4_val=0.0,x5_val=-5.,x6_val=0.0, filestem=\"Figure8-coord-turns-barrier-3\")"
   ]
  },
  {
   "cell_type": "code",
   "execution_count": null,
   "id": "ea58ecd2",
   "metadata": {},
   "outputs": [],
   "source": [
    "# minimum tansit time\n",
    "t2=[]\n",
    "for i in second_level_barriers\n",
    "    if (!ismissing(i[2]))\n",
    "        t2 = append!(t2,i[2])\n",
    "    end\n",
    "end\n",
    "println(t2)\n",
    "t2 = filter(x -> x > 0, t2)\n",
    "print(minimum(t2))"
   ]
  },
  {
   "cell_type": "markdown",
   "id": "bfa373b9",
   "metadata": {},
   "source": [
    "# 4. Benchmarks"
   ]
  },
  {
   "cell_type": "code",
   "execution_count": null,
   "id": "28c1a54b",
   "metadata": {},
   "outputs": [],
   "source": [
    "# generating data for Table 1 in the paper (row for current system)"
   ]
  },
  {
   "cell_type": "code",
   "execution_count": null,
   "id": "d9152068",
   "metadata": {},
   "outputs": [],
   "source": [
    "println(\"Time taken for B1: $(elapsed1+elapsed2+elapsed3+elapsed4)\")\n",
    "println(\"# barriers B1: $(size(first_level))\")\n",
    "println(\"Time taken for B2: $(s_elapsed)\")\n",
    "println(\"# barriers B2: $(size(all_barriers))\")"
   ]
  },
  {
   "cell_type": "markdown",
   "id": "0ee58f0b",
   "metadata": {},
   "source": [
    "# 5. Verification"
   ]
  },
  {
   "cell_type": "code",
   "execution_count": null,
   "id": "384b9a21",
   "metadata": {},
   "outputs": [],
   "source": [
    "\"\"\"\n",
    "Certifying barriers using constraint PSD check\n",
    "\"\"\"\n",
    "\n",
    "using DelimitedFiles\n",
    "\n",
    "function check_psd_constraints(multipliers_array::Vector)\n",
    "    counter = 0\n",
    "    M = []\n",
    "    for mults in multipliers_array\n",
    "        for lms in mults\n",
    "            for lm in lms\n",
    "                if !isposdef(Matrix(lm.Q)) && !isposdef(Diagonal(svd(Matrix(lm.Q)).S))\n",
    "                    counter += 1\n",
    "                else \n",
    "#                     display(Matrix(lm.Q))\n",
    "                    push!(M, [Matrix(lm.Q)])\n",
    "                end\n",
    "            end\n",
    "        end\n",
    "    end\n",
    "    open(\"matrices_ct.txt\", \"w\") do io\n",
    "        writedlm(io, M)\n",
    "    end\n",
    "    if counter==0\n",
    "        println(\"All constraints are PSD: Barrier certified\")\n",
    "    else\n",
    "        println(\"PSD check failed!\")\n",
    "    end\n",
    "end"
   ]
  },
  {
   "cell_type": "code",
   "execution_count": null,
   "id": "c6e098c4",
   "metadata": {},
   "outputs": [],
   "source": [
    "all_barrier_plus = push!([second_level_barriers], third_level_barriers);"
   ]
  },
  {
   "cell_type": "code",
   "execution_count": null,
   "id": "336bf996",
   "metadata": {},
   "outputs": [],
   "source": [
    "lms=[]\n",
    "for i in all_barrier_plus\n",
    "    if (!ismissing(i[1][4]))\n",
    "        lms = append!(lms,i[1][4])\n",
    "    end\n",
    "end"
   ]
  },
  {
   "cell_type": "code",
   "execution_count": null,
   "id": "21b4b5b5",
   "metadata": {
    "scrolled": false
   },
   "outputs": [],
   "source": [
    "check_psd_constraints([lm1,lm2, lm3, lm4, lms])"
   ]
  },
  {
   "cell_type": "code",
   "execution_count": null,
   "id": "e8aab58c",
   "metadata": {},
   "outputs": [],
   "source": [
    "lm1[1][1].basis.monomials'*lm1[1][1].Q*lm1[1][1].basis.monomials"
   ]
  },
  {
   "cell_type": "code",
   "execution_count": null,
   "id": "d369b459",
   "metadata": {},
   "outputs": [],
   "source": [
    "lm1[1][1].Q"
   ]
  }
 ],
 "metadata": {
  "kernelspec": {
   "display_name": "Julia 1.10.0",
   "language": "julia",
   "name": "julia-1.10"
  },
  "language_info": {
   "file_extension": ".jl",
   "mimetype": "application/julia",
   "name": "julia",
   "version": "1.10.0"
  }
 },
 "nbformat": 4,
 "nbformat_minor": 5
}
