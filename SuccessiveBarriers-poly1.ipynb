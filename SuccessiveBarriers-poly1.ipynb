{
 "cells": [
  {
   "cell_type": "code",
   "execution_count": null,
   "id": "7ce73e0c",
   "metadata": {
    "ExecuteTime": {
     "end_time": "2024-06-13T17:31:45.979000-06:00"
    }
   },
   "outputs": [],
   "source": [
    "using DynamicPolynomials\n",
    "using SumOfSquares\n",
    "using CSDP\n",
    "using JuMP\n",
    "using Plots\n",
    "using LinearAlgebra\n",
    "using DifferentialEquations\n",
    "using PyCall\n",
    "using MosekTools"
   ]
  },
  {
   "cell_type": "markdown",
   "id": "bb554ac2",
   "metadata": {},
   "source": [
    "$$x_1' = x_2, x_2' = -x_1 + u $$ "
   ]
  },
  {
   "cell_type": "markdown",
   "id": "1062fdc0",
   "metadata": {},
   "source": [
    "# 0. Init system variable and parameters"
   ]
  },
  {
   "cell_type": "code",
   "execution_count": null,
   "id": "26aa3d76",
   "metadata": {
    "ExecuteTime": {
     "end_time": "2024-06-13T17:31:52.495000-06:00"
    }
   },
   "outputs": [],
   "source": [
    "#init state and input variables\n",
    "@polyvar x[1:2]\n",
    "@polyvar u[1:1]\n",
    "\n",
    "#define system dynamics\n",
    "vectorField = [ x[2], -x[1] + u[1] ] \n",
    "\n",
    "#define unsafe set (obstacle)\n",
    "g = 0.1^2 - x[1]^2 - x[2]^2\n",
    "\n",
    "#state and input bounds\n",
    "bounds = [[-10., 10.], [-10., 10.] ]\n",
    "u_bounds = [[-1.,1.]]"
   ]
  },
  {
   "cell_type": "code",
   "execution_count": null,
   "id": "b89e2935",
   "metadata": {
    "ExecuteTime": {
     "end_time": "2024-06-13T17:31:52.713000-06:00",
     "start_time": "2024-06-13T23:31:33.122Z"
    }
   },
   "outputs": [],
   "source": [
    "function prepare_domain(x::Vector{<:Variable}, bounds::Vector{Vector{Float64}})\n",
    "   poly_list = [ \n",
    "        @set(x[i] - l >= 0) ∩ @set(u - x[i] >= 0 ) ∩ @set((x[i] -l)*(u-x[i]) >= 0)\n",
    "        for (i, (l, u)) in enumerate(bounds)\n",
    "        ] \n",
    "   poly_list\n",
    "end"
   ]
  },
  {
   "cell_type": "code",
   "execution_count": null,
   "id": "bdd7b80e",
   "metadata": {
    "ExecuteTime": {
     "end_time": "2024-06-13T17:31:52.729000-06:00",
     "start_time": "2024-06-13T23:31:33.793Z"
    }
   },
   "outputs": [],
   "source": [
    "#instantiate parameters\n",
    "λ = 1\n",
    "ϵ = 1\n",
    "max_degree=4\n",
    "U = [[-1.0],[1.0]]"
   ]
  },
  {
   "cell_type": "code",
   "execution_count": null,
   "id": "8c0e6a53",
   "metadata": {
    "ExecuteTime": {
     "end_time": "2024-06-13T17:31:52.968000-06:00",
     "start_time": "2024-06-13T23:31:34.529Z"
    }
   },
   "outputs": [],
   "source": [
    "# generate test points\n",
    "function get_random(limits::Vector{Vector{Float64}}, g::Polynomial)\n",
    "    function get_random_scalar(lb, ub )\n",
    "        lb + rand()*(ub - lb) \n",
    "    end\n",
    "    while (true)\n",
    "        pt = [get_random_scalar(l[1], l[2]) for l in limits]\n",
    "        if g(pt[1], pt[2]) >= 0\n",
    "            continue\n",
    "        else\n",
    "            return pt\n",
    "        end\n",
    "    end\n",
    "end\n",
    "\n",
    "test_pts = [ get_random(bounds, g) for _ in 1:25];"
   ]
  },
  {
   "cell_type": "markdown",
   "id": "75288956",
   "metadata": {},
   "source": [
    "# 1. Computing initial set of barriers for each input U_i"
   ]
  },
  {
   "cell_type": "code",
   "execution_count": null,
   "id": "5e027499",
   "metadata": {
    "ExecuteTime": {
     "end_time": "2024-06-13T17:31:53.919000-06:00",
     "start_time": "2024-06-13T23:31:35.681Z"
    }
   },
   "outputs": [],
   "source": [
    "# function to generate initial barriers for each input\n",
    "using Clarabel\n",
    "\n",
    "function generate_barrier(x, u, bounds, g, vectorField, U, test_pts; max_degree=4,ϵ = 0.25, λ = 0.1, γ = 10.)\n",
    "    solver = optimizer_with_attributes(CSDP.Optimizer)\n",
    "#     solver = optimizer_with_attributes(MosekTools.Optimizer)\n",
    "    model = SOSModel(solver)\n",
    "    dom_list = prepare_domain(x, bounds)\n",
    "    dom = reduce( (s1, s2) -> s1 ∩ s2, dom_list)\n",
    "    #println(\"Domain: $dom\")\n",
    "    # negative inside the obstacle\n",
    "    monos = monomials(x, 0:max_degree)\n",
    "    N = length(monos) \n",
    "    @variable(model, -γ <= c[1:N] <= γ)\n",
    "    \n",
    "    B = polynomial(c[big\"1\":end], monos) \n",
    "    #negative inside the domain\n",
    "    @constraint(model, cons1, B <= -ϵ, domain=dom ∩ @set(g >= 0))\n",
    "    B_dot = dot(differentiate(B,x), vectorField)\n",
    "    B_dot_with_u = subs(B_dot, u => U)\n",
    "    @constraint(model, cons2, B_dot_with_u >= λ * B, domain=dom)\n",
    "    \n",
    "    set_objective_sense(model, MOI.FEASIBILITY_SENSE)\n",
    "    objective_fn = sum([B(pt...) for pt in test_pts])\n",
    "    @objective(model, Max, objective_fn) # keep as many points outside the barrier as you can\n",
    "    JuMP.optimize!(model)\n",
    "    stat = JuMP.primal_status(model)\n",
    "    if stat != FEASIBLE_POINT\n",
    "        return missing\n",
    "    end\n",
    "    # found feasible point\n",
    "    println(solution_summary(model))\n",
    "    lm = [lagrangian_multipliers(cons1)]\n",
    "    push!(lm, lagrangian_multipliers(cons2))\n",
    "    value(B), value(B_dot), lm\n",
    "end"
   ]
  },
  {
   "cell_type": "code",
   "execution_count": null,
   "id": "97267cc0",
   "metadata": {},
   "outputs": [],
   "source": [
    "# function to comupte transit time for each barrier \n",
    "\n",
    "function refine_barrier_dn(x, u, bounds, u_bounds, g, vectorField, B, B_dot; ϵ = 0.25, κ = .1)\n",
    "    solver = optimizer_with_attributes(CSDP.Optimizer)\n",
    "    model = SOSModel(solver)\n",
    "    dom_list = prepare_domain(x, bounds)\n",
    "    dom_list_u = prepare_domain(u, u_bounds)\n",
    "    dom_list = append!(dom_list, dom_list_u)\n",
    "    dom = reduce( (s1, s2) -> s1 ∩ s2, dom_list)\n",
    "    #println(\"Domain: $dom\")\n",
    "    # negative inside the obstacle\n",
    "    monos = monomials(x, 0:max_degree)\n",
    "    N = length(monos) \n",
    "    @variable(model, η)\n",
    "    @variable(model, δ >=0)\n",
    "    dom3 = dom ∩ @set(B >= 0) ∩ @set(B <= κ)\n",
    "    @constraint(model, -η*B - δ <= B_dot, domain=dom3)\n",
    "    @constraint(model, η*κ + δ >= 0)\n",
    "    @objective(model, Min, δ)\n",
    "    JuMP.optimize!(model)\n",
    "    stat = JuMP.primal_status(model)\n",
    "    if stat != FEASIBLE_POINT\n",
    "        return missing\n",
    "    end\n",
    "    # found feasible point\n",
    "    println(solution_summary(model))\n",
    "    println(\"η = $(JuMP.value(η))\")\n",
    "    println(\"δ = $(JuMP.value(δ))\")\n",
    "    τ =  (κ)/max(JuMP.value(δ),JuMP.value(η) *  κ + JuMP.value(δ))\n",
    "    println(\"τd = $(JuMP.value(τ))\")\n",
    "    return τ\n",
    "end"
   ]
  },
  {
   "cell_type": "code",
   "execution_count": null,
   "id": "320408ca",
   "metadata": {
    "ExecuteTime": {
     "end_time": "2024-06-13T17:32:37.436000-06:00",
     "start_time": "2024-06-13T23:32:35.412Z"
    },
    "scrolled": false
   },
   "outputs": [],
   "source": [
    "elapsed1 = @elapsed begin\n",
    "B_0, B_0d, lm0 = generate_barrier(x, u, bounds, g, vectorField, U[1], test_pts; max_degree = 2)\n",
    "end\n",
    "display(B_0)\n",
    "display(B_0d)\n",
    "t_0d = refine_barrier_dn(x, u, bounds, u_bounds, g, vectorField, B_0,  B_0d)\n",
    "\n",
    "if (!ismissing(B_0))\n",
    "    test_pts = filter!(pt -> B_0(pt...) <= 0., test_pts)\n",
    "end"
   ]
  },
  {
   "cell_type": "code",
   "execution_count": null,
   "id": "90972912",
   "metadata": {},
   "outputs": [],
   "source": [
    "l = lm0[1][1].basis.monomials'*lm0[1][1].Q*lm0[1][1].basis.monomials"
   ]
  },
  {
   "cell_type": "code",
   "execution_count": null,
   "id": "db3cf374",
   "metadata": {},
   "outputs": [],
   "source": []
  },
  {
   "cell_type": "code",
   "execution_count": null,
   "id": "4a29b595",
   "metadata": {},
   "outputs": [],
   "source": []
  },
  {
   "cell_type": "code",
   "execution_count": null,
   "id": "02129f27",
   "metadata": {},
   "outputs": [],
   "source": [
    "elapsed2 = @elapsed begin\n",
    "B_1, B_1d, lm1 = generate_barrier(x, u, bounds, g, vectorField, U[2], test_pts; max_degree=2)\n",
    "end\n",
    "display(B_1)\n",
    "display(B_1d)\n",
    "t_1d = refine_barrier_dn(x, u, bounds, u_bounds, g, vectorField, B_1,  B_1d)\n",
    "\n",
    "if (!ismissing(B_1))\n",
    "    test_pts = filter!(pt -> B_1(pt...) <= 0., test_pts)\n",
    "end"
   ]
  },
  {
   "cell_type": "markdown",
   "id": "4d888368",
   "metadata": {},
   "source": [
    "# 2. Computing Successive Barriers"
   ]
  },
  {
   "cell_type": "code",
   "execution_count": null,
   "id": "d208a18a",
   "metadata": {},
   "outputs": [],
   "source": [
    "# functions to compute successive barriers"
   ]
  },
  {
   "cell_type": "code",
   "execution_count": null,
   "id": "56cec9b4",
   "metadata": {
    "ExecuteTime": {
     "end_time": "2024-06-13T17:33:52.833000-06:00",
     "start_time": "2024-06-13T23:33:52.773Z"
    }
   },
   "outputs": [],
   "source": [
    "function generate_successive_barrier(x::Vector{<:Variable}, u::Vector{<:Variable}, \n",
    "        bounds::Vector{Vector{Float64}}, g::Polynomial, \n",
    "        vectorField::Vector{<:Polynomial}, U::Vector{Float64}, \n",
    "        test_pts::Vector{Vector{Float64}}, ancestors::Vector{<:Polynomial}, \n",
    "        pt_to_eliminate::Vector{Float64}; \n",
    "        max_degree=4,ϵ = 1, λ = 1, γ = 10., κ = .1)\n",
    "    solver = optimizer_with_attributes(CSDP.Optimizer, MOI.Silent() => true)\n",
    "    model = SOSModel(solver)\n",
    "    dom_list = prepare_domain(x, bounds)\n",
    "    dom = reduce( (s1, s2) -> s1 ∩ s2, dom_list)\n",
    "    #println(\"Domain: $dom\")\n",
    "\n",
    "    monos = monomials(x, 0:max_degree)\n",
    "    N = length(monos) \n",
    "    @variable(model, -γ <= c[1:N] <= γ)\n",
    "    \n",
    "    B = polynomial(c[1:end], monos) \n",
    "    # negative inside the obstacle\n",
    "    @constraint(model, cons1, B <= -ϵ, domain=dom ∩ @set(g >= 0) )\n",
    "    \n",
    "    # dynamics constraints\n",
    "    B_dot = dot(differentiate(B,x), vectorField)\n",
    "    B_dot_with_u = subs(B_dot, u => U)\n",
    "    if size(ancestors)[1] >= 1\n",
    "        new_domain = dom ∩ (reduce(∩, [@set(B <= 0) for B in ancestors]))\n",
    "    else\n",
    "        new_domain = dom \n",
    "    end\n",
    "    @constraint(model, cons2, B_dot_with_u >= λ * B, domain=new_domain)\n",
    "    \n",
    "    # eliminate the point we would like to eliminate\n",
    "    cons3 = @constraint(model, B(pt_to_eliminate...) >= ϵ)\n",
    "    set_objective_sense(model, MOI.FEASIBILITY_SENSE)\n",
    "    \n",
    "    # maximize the sum of values for all test points\n",
    "    objective_fn = sum([B(pt...) for pt in test_pts])\n",
    "    @objective(model, Max, objective_fn) # keep as many points outside the barrier as you can\n",
    "    JuMP.optimize!(model)\n",
    "    stat = JuMP.primal_status(model)\n",
    "    if stat != FEASIBLE_POINT\n",
    "        return missing\n",
    "    end\n",
    "    # found feasible point\n",
    "    println(solution_summary(model))\n",
    "    lm = [lagrangian_multipliers(cons1)]\n",
    "    push!(lm, lagrangian_multipliers(cons2))\n",
    "    value(B), value(B_dot), lm, cons3\n",
    "end"
   ]
  },
  {
   "cell_type": "code",
   "execution_count": null,
   "id": "a34a25f2",
   "metadata": {},
   "outputs": [],
   "source": [
    "function refine_barrier_succ_dn(x, u, bounds, u_bounds, g, vectorField, B, B_dot, ancestors; ϵ = 0.25, κ = .1)\n",
    "#     solver = optimizer_with_attributes(CSDP.Optimizer)\n",
    "    solver = optimizer_with_attributes(CSDP.Optimizer)\n",
    "    model = SOSModel(solver)\n",
    "    dom_list = prepare_domain(x, bounds)\n",
    "    dom_list_u = prepare_domain(u, u_bounds)\n",
    "    dom_list = append!(dom_list, dom_list_u)\n",
    "    dom = reduce( (s1, s2) -> s1 ∩ s2, dom_list)\n",
    "    #println(\"Domain: $dom\")\n",
    "    # negative inside the obstacle\n",
    "    monos = monomials(x, 0:max_degree)\n",
    "    N = length(monos) \n",
    "    @variable(model, η)\n",
    "    @variable(model, δ>=0)\n",
    "\n",
    "    if size(ancestors)[1] >= 1\n",
    "        new_domain = dom ∩ (reduce(∩, [@set(b <= 0) for b in ancestors]))\n",
    "    else\n",
    "        new_domain = dom \n",
    "    end\n",
    "    \n",
    "    dom3 = new_domain ∩ @set(B >= 0) ∩ @set(B <= κ)\n",
    "    @constraint(model, -η*B - δ <= B_dot, domain=dom3)\n",
    "    @constraint(model, η*κ + δ >= 0)\n",
    "\n",
    "    #set_objective_sense(model, MOI.FEASIBILITY_SENSE)\n",
    "    @objective(model, Min, δ)\n",
    "    JuMP.optimize!(model)\n",
    "    stat = JuMP.primal_status(model)\n",
    "    if stat != FEASIBLE_POINT\n",
    "        return missing\n",
    "    end\n",
    "    # found feasible point\n",
    "    println(solution_summary(model))\n",
    "    println(\"η = $(value(η))\")\n",
    "    println(\"δ = $(value(δ))\")\n",
    "    τ =  (κ)/max(value(δ),value(η) *  κ + value(δ))\n",
    "    println(\"τd = $(value(τ))\")\n",
    "    return τ\n",
    "end"
   ]
  },
  {
   "cell_type": "code",
   "execution_count": null,
   "id": "cdb7f4df",
   "metadata": {
    "ExecuteTime": {
     "end_time": "2024-06-13T17:33:54.928000-06:00",
     "start_time": "2024-06-13T23:33:54.885Z"
    }
   },
   "outputs": [],
   "source": [
    "function compute_next_level_barriers(x::Vector{<:Variable}, u::Vector{<:Variable}, bounds::Vector{Vector{Float64}},\n",
    "                                    u_bounds::Vector{Vector{Float64}},\n",
    "                                    g::Polynomial, vectorField::Vector{<:Polynomial}, \n",
    "                                    U::Vector{Vector{Float64}}, test_pts::Vector{Vector{Float64}}, \n",
    "                                    ancestors::Vector{<:Polynomial}) \n",
    "    eliminated = []\n",
    "    second_level_barriers=[]\n",
    "    for (j,pt) in enumerate(test_pts) \n",
    "        if j in eliminated\n",
    "            # ignore the ones already eliminated\n",
    "            continue\n",
    "        end\n",
    "        # go through each control \n",
    "        for u_val in U\n",
    "            # generate a barrier \n",
    "            B = generate_successive_barrier(x, u, bounds, g, vectorField, u_val, test_pts, ancestors, pt)\n",
    "            # check if we found something\n",
    "            if !ismissing(B)\n",
    "                println(\"Bingo: Found $B\")\n",
    "                useful = false # check if it is actually useful\n",
    "                for (k,pt_new) in enumerate(test_pts)\n",
    "                    if k in eliminated\n",
    "                        continue\n",
    "                    end\n",
    "                   if (B[1](pt_new...) >= 0.)\n",
    "                    push!(eliminated, k)   \n",
    "                    println(\"\\t eliminated $pt_new\")\n",
    "                    useful=true\n",
    "                   end\n",
    "                end\n",
    "                if (useful)\n",
    "                    println(\"Num remaining = $(size(test_pts)[1] - size(eliminated)[1])\")\n",
    "                    td = refine_barrier_succ_dn(x, u, bounds, u_bounds, g, vectorField, B[1],  B[2], ancestors)         \n",
    "                    push!(second_level_barriers, (B[1], u_val, td, B[3], B[4]))\n",
    "                    break\n",
    "                end\n",
    "            end\n",
    "        end\n",
    "    end\n",
    "    new_test_pts = [pt for (j, pt) in enumerate(test_pts) if !(j in eliminated)]\n",
    "    return (second_level_barriers, new_test_pts)\n",
    "end"
   ]
  },
  {
   "cell_type": "code",
   "execution_count": null,
   "id": "dd8b96e6",
   "metadata": {
    "ExecuteTime": {
     "end_time": "2024-06-13T17:37:07.323000-06:00",
     "start_time": "2024-06-13T23:34:49.356Z"
    },
    "scrolled": true
   },
   "outputs": [],
   "source": [
    "zero_level_barriers::Vector{Polynomial} =[B_0, B_1]\n",
    "print(size(zero_level_barriers))\n",
    "s_elapsed = @elapsed begin\n",
    "(first_level_barriers, test_pts_1) = compute_next_level_barriers(x, u, bounds, u_bounds, g, vectorField, U, test_pts, zero_level_barriers)\n",
    "end"
   ]
  },
  {
   "cell_type": "code",
   "execution_count": null,
   "id": "bc118082",
   "metadata": {},
   "outputs": [],
   "source": []
  },
  {
   "cell_type": "code",
   "execution_count": null,
   "id": "19363f60",
   "metadata": {},
   "outputs": [],
   "source": [
    "test_pts_1 = [ get_random(bounds, g) for _ in 1:25];"
   ]
  },
  {
   "cell_type": "code",
   "execution_count": null,
   "id": "434c339e",
   "metadata": {
    "ExecuteTime": {
     "end_time": "2024-06-13T17:40:12.380000-06:00",
     "start_time": "2024-06-13T23:38:43.677Z"
    }
   },
   "outputs": [],
   "source": [
    "all_barriers1::Vector{Polynomial} = []\n",
    "append!(all_barriers1, zero_level_barriers)\n",
    "append!(all_barriers1, [B for (B, _) in first_level_barriers])\n",
    "(second_level_barriers, test_pts_2) = compute_next_level_barriers(x, u, bounds, u_bounds, g, vectorField, U, test_pts_1, all_barriers1)"
   ]
  },
  {
   "cell_type": "markdown",
   "id": "0f18557b",
   "metadata": {},
   "source": [
    "# 3. Plots"
   ]
  },
  {
   "cell_type": "code",
   "execution_count": null,
   "id": "15abf5a6",
   "metadata": {
    "ExecuteTime": {
     "end_time": "2024-06-13T17:52:19.406000-06:00",
     "start_time": "2024-06-13T23:52:19.385Z"
    }
   },
   "outputs": [],
   "source": [
    "# plotting functions\n",
    "\n",
    "function circleShape(x,y, r)\n",
    "    θ = LinRange(0, 2*π, 500)\n",
    "    x .+ r*cos.(θ), y .+ r*sin.(θ)\n",
    "end\n",
    "\n",
    "function plot_ci_region2lev(limits::Tuple{Float64,Float64}, lev1_barriers::Vector{<:Polynomial}, lev2_barriers::Vector{<:Polynomial}; δ = 0.1, theta_val=0.0, filestem=\"ics\")\n",
    "    plot(xlims=limits, ylims=limits)\n",
    "    rectangle(w, h, x, y) = Shape(x .+ [0,w,w,0], y .+ [0,0,h,h])\n",
    "    for x in limits[1]:δ:limits[2]\n",
    "        for y in limits[1]:δ:limits[2]\n",
    "            if (any([ B(x, y) > 0. for B in lev1_barriers]))\n",
    "                plot!(rectangle(δ, δ, x-δ, y-δ), label=false, fill=:seagreen1, opacity=0.5,linecolor=:seagreen1)\n",
    "            else\n",
    "                if (any([ B(x, y) > 0. for B in lev2_barriers]))\n",
    "                    plot!(rectangle(δ, δ, x-δ, y-δ), label=false, fill=:limegreen, linecolor=:limegreen)\n",
    "                end \n",
    "            end\n",
    "        end\n",
    "    end\n",
    "    plot!(circleShape(0,0,0.2), seriestype =[:shape], lw=0.5, c=:black, linecolor=:black, legend=false, aspectratio=1  )\n",
    "    plot!(xlims=limits, ylims=limits)\n",
    "    filename=\"figures/$filestem-theta-$(round(theta_val; digits=2)).png\"\n",
    "    savefig(filename)\n",
    "    plot!(xlims=limits, ylims=limits)\n",
    "end\n"
   ]
  },
  {
   "cell_type": "code",
   "execution_count": null,
   "id": "484af02b",
   "metadata": {},
   "outputs": [],
   "source": [
    "# improvement in the control invariant region at level 1\n",
    "all_barriers = [B for (B,_) in first_level_barriers]\n",
    "append!(all_barriers, [B_0, B_1]);\n",
    "plot_ci_region2lev((-10., 10.), [B_0, B_1], all_barriers; δ=0.25, theta_val=-3.1415/2, filestem=\"Figure7a-poly1-lev1\")"
   ]
  },
  {
   "cell_type": "code",
   "execution_count": null,
   "id": "b87b6dfb",
   "metadata": {},
   "outputs": [],
   "source": [
    "# improvement in the control invariant region at level 2\n",
    "lev2_barriers::Vector{Polynomial} = [B for (B,_) in second_level_barriers]\n",
    "plot_ci_region2lev((-10., 10.0), all_barriers, lev2_barriers; theta_val=3.14, δ=0.25, filestem=\"Figure7a-poly1-lev2\")"
   ]
  },
  {
   "cell_type": "code",
   "execution_count": null,
   "id": "b2cfb5ad",
   "metadata": {
    "scrolled": true
   },
   "outputs": [],
   "source": [
    "# minimum transit time over all barriers\n",
    "t0_min = minimum([t_0d, t_1d]);\n",
    "t1=[]\n",
    "for i in first_level_barriers\n",
    "    if (!ismissing(i[3]))\n",
    "        t1 = append!(t1,i[3])\n",
    "    end\n",
    "end\n",
    "t1 = filter(x -> x > 0, t1)\n",
    "t1_min = minimum(t1);\n",
    "t2=[]\n",
    "for i in second_level_barriers\n",
    "    if (!ismissing(i[3]))\n",
    "        t2 = append!(t2,i[3])\n",
    "    end\n",
    "end\n",
    "t2 = filter(x -> x > 0, t2);\n",
    "t2_min = minimum(t2);\n",
    "\n",
    "println(\"τ_min = $(minimum([t0_min, t1_min, t2_min]))\")"
   ]
  },
  {
   "cell_type": "markdown",
   "id": "bfa373b9",
   "metadata": {},
   "source": [
    "# 4. Benchmarks"
   ]
  },
  {
   "cell_type": "code",
   "execution_count": null,
   "id": "28c1a54b",
   "metadata": {},
   "outputs": [],
   "source": [
    "# generating data for Table 1 in the paper (row for current system)"
   ]
  },
  {
   "cell_type": "code",
   "execution_count": null,
   "id": "d9152068",
   "metadata": {},
   "outputs": [],
   "source": [
    "println(\"Time taken for B1: $(elapsed1+elapsed2)\")\n",
    "println(\"# barriers B1: $(size(zero_level_barriers))\")\n",
    "println(\"Time taken for B2: $(s_elapsed)\")\n",
    "println(\"# barriers B2: $(size(first_level_barriers))\")"
   ]
  },
  {
   "cell_type": "code",
   "execution_count": null,
   "id": "88c42716",
   "metadata": {},
   "outputs": [],
   "source": [
    "# generating test points with fixed seed for evaluations (Table 2 in paper)\n",
    "\n",
    "function generate_random_points_fixed_seed(limits::Vector{Vector{Float64}}, g::Polynomial)\n",
    "     function get_random_scalar(lb, ub )\n",
    "        Random.seed!(1234)\n",
    "        lb + rand()*(ub - lb) \n",
    "     end\n",
    "     while (true)\n",
    "         pt = [get_random_scalar(l[1], l[2]) for l in limits]\n",
    "         if g(pt[1], pt[2]) >= 0\n",
    "             continue\n",
    "         else\n",
    "             return pt\n",
    "         end\n",
    "     end\n",
    "end\n",
    "test_pts_fixed_seed = [ get_random(bounds, g) for _ in 1:1000];"
   ]
  },
  {
   "cell_type": "code",
   "execution_count": null,
   "id": "391c87a2",
   "metadata": {},
   "outputs": [],
   "source": [
    "# functions for FOSSIL comparison (Table 2 in paper)\n",
    "\n",
    "py\"\"\"\n",
    "import math\n",
    "def eval_fossil_barrier(x0,x1):\n",
    "    barrier = (1.5352206230163574 - 1.0230000019073486 * pow((-1.9589999914169312 + (-3.005000114440918 / (1 + math.exp((4.5869998931884766 - 0.14499999582767487 * x0 + 2.1189999580383301 * x1)))) + (-1.5240000486373901 / (1 + math.exp((1.4500000476837158 + 2.2709999084472656 * x0 - 0.035999998450279236 * x1)))) + (-0.93999999761581421 / (1 + math.exp((4.7290000915527344 - 2.1909999847412109 * x0 + 1.8890000581741333 * x1)))) + (0.7850000262260437 / (1 + math.exp((0.44100001454353333 + 0.86799997091293335 * x0 - 2.3900001049041748 * x1)))) + (1.0590000152587891 / (1 + math.exp((2.2880001068115234 - 2.7179999351501465 * x0 + 0.27500000596046448 * x1)))) + (1.0839999914169312 / (1 + math.exp((1.6000000238418579 - 3.7170000076293945 * x0 - 1.3589999675750732 * x1)))) + (1.1330000162124634 / (1 + math.exp((0.18500000238418579 + 0.59799998998641968 * x0 - 2.3910000324249268 * x1)))) + (1.156000018119812 / (1 + math.exp((-1.5820000171661377 - 0.32499998807907104 * x0 - 2.9619998931884766 * x1)))) + (1.2070000171661377 / (1 + math.exp((0.89200001955032349 + 2.6979999542236328 * x0 - 2.875999927520752 * x1)))) + (1.2920000553131104 / (1 + math.exp((5.0430002212524414 - 3.7460000514984131 * x0 - 0.57999998331069946 * x1))))), 2) - 0.5910000205039978 * pow((-1.9170000553131104 + (-2.1970000267028809 / (1 + math.exp((4.5869998931884766 - 0.14499999582767487 * x0 + 2.1189999580383301 * x1)))) + (-0.92299997806549072 / (1 + math.exp((4.7290000915527344 - 2.1909999847412109 * x0 + 1.8890000581741333 * x1)))) + (-0.51099997758865356 / (1 + math.exp((1.4500000476837158 + 2.2709999084472656 * x0 - 0.035999998450279236 * x1)))) + (0.050999999046325684 / (1 + math.exp((0.44100001454353333 + 0.86799997091293335 * x0 - 2.3900001049041748 * x1)))) + (0.52600002288818359 / (1 + math.exp((2.2880001068115234 - 2.7179999351501465 * x0 + 0.27500000596046448 * x1)))) + (0.81599998474121094 / (1 + math.exp((0.89200001955032349 + 2.6979999542236328 * x0 - 2.875999927520752 * x1)))) + (0.86100000143051147 / (1 + math.exp((0.18500000238418579 + 0.59799998998641968 * x0 - 2.3910000324249268 * x1)))) + (0.90600001811981201 / (1 + math.exp((1.6000000238418579 - 3.7170000076293945 * x0 - 1.3589999675750732 * x1)))) + (0.94300001859664917 / (1 + math.exp((-1.5820000171661377 - 0.32499998807907104 * x0 - 2.9619998931884766 * x1)))) + (1.0199999809265137 / (1 + math.exp((5.0430002212524414 - 3.7460000514984131 * x0 - 0.57999998331069946 * x1))))), 2) - 0.30700001120567322 * pow((-0.92299997806549072 + (-1.4620000123977661 / (1 + math.exp((4.7290000915527344 - 2.1909999847412109 * x0 + 1.8890000581741333 * x1)))) + (-1.0989999771118164 / (1 + math.exp((1.4500000476837158 + 2.2709999084472656 * x0 - 0.035999998450279236 * x1)))) + (-0.58399999141693115 / (1 + math.exp((4.5869998931884766 - 0.14499999582767487 * x0 + 2.1189999580383301 * x1)))) + (-0.29699999094009399 / (1 + math.exp((0.18500000238418579 + 0.59799998998641968 * x0 - 2.3910000324249268 * x1)))) + (0.05299999937415123 / (1 + math.exp((2.2880001068115234 - 2.7179999351501465 * x0 + 0.27500000596046448 * x1)))) + (0.20000000298023224 / (1 + math.exp((0.44100001454353333 + 0.86799997091293335 * x0 - 2.3900001049041748 * x1)))) + (0.2199999988079071 / (1 + math.exp((1.6000000238418579 - 3.7170000076293945 * x0 - 1.3589999675750732 * x1)))) + (0.61400002241134644 / (1 + math.exp((0.89200001955032349 + 2.6979999542236328 * x0 - 2.875999927520752 * x1)))) + (0.61500000953674316 / (1 + math.exp((-1.5820000171661377 - 0.32499998807907104 * x0 - 2.9619998931884766 * x1)))) + (1.2120000123977661 / (1 + math.exp((5.0430002212524414 - 3.7460000514984131 * x0 - 0.57999998331069946 * x1))))), 2) + 1.2150000333786011 * pow((-0.58799999952316284 + (-4.5580000877380371 / (1 + math.exp((1.6000000238418579 - 3.7170000076293945 * x0 - 1.3589999675750732 * x1)))) + (-2.7660000324249268 / (1 + math.exp((2.2880001068115234 - 2.7179999351501465 * x0 + 0.27500000596046448 * x1)))) + (-2.687999963760376 / (1 + math.exp((4.5869998931884766 - 0.14499999582767487 * x0 + 2.1189999580383301 * x1)))) + (-1.340999960899353 / (1 + math.exp((5.0430002212524414 - 3.7460000514984131 * x0 - 0.57999998331069946 * x1)))) + (-1.1579999923706055 / (1 + math.exp((4.7290000915527344 - 2.1909999847412109 * x0 + 1.8890000581741333 * x1)))) + (-0.17700000107288361 / (1 + math.exp((0.89200001955032349 + 2.6979999542236328 * x0 - 2.875999927520752 * x1)))) + (0.48600000143051147 / (1 + math.exp((0.18500000238418579 + 0.59799998998641968 * x0 - 2.3910000324249268 * x1)))) + (0.80800002813339233 / (1 + math.exp((-1.5820000171661377 - 0.32499998807907104 * x0 - 2.9619998931884766 * x1)))) + (1.6000000238418579 / (1 + math.exp((0.44100001454353333 + 0.86799997091293335 * x0 - 2.3900001049041748 * x1)))) + (2.937999963760376 / (1 + math.exp((1.4500000476837158 + 2.2709999084472656 * x0 - 0.035999998450279236 * x1))))), 2) - 0.79900002479553223 * pow((-0.48100000619888306 + (-1.8619999885559082 / (1 + math.exp((1.4500000476837158 + 2.2709999084472656 * x0 - 0.035999998450279236 * x1)))) + (-1.4819999933242798 / (1 + math.exp((4.5869998931884766 - 0.14499999582767487 * x0 + 2.1189999580383301 * x1)))) + (-1.4409999847412109 / (1 + math.exp((4.7290000915527344 - 2.1909999847412109 * x0 + 1.8890000581741333 * x1)))) + (0.25699999928474426 / (1 + math.exp((0.89200001955032349 + 2.6979999542236328 * x0 - 2.875999927520752 * x1)))) + (0.44299998879432678 / (1 + math.exp((-1.5820000171661377 - 0.32499998807907104 * x0 - 2.9619998931884766 * x1)))) + (0.69099998474121094 / (1 + math.exp((0.18500000238418579 + 0.59799998998641968 * x0 - 2.3910000324249268 * x1)))) + (1.2660000324249268 / (1 + math.exp((1.6000000238418579 - 3.7170000076293945 * x0 - 1.3589999675750732 * x1)))) + (1.2829999923706055 / (1 + math.exp((2.2880001068115234 - 2.7179999351501465 * x0 + 0.27500000596046448 * x1)))) + (1.6579999923706055 / (1 + math.exp((5.0430002212524414 - 3.7460000514984131 * x0 - 0.57999998331069946 * x1)))) + (1.7849999666213989 / (1 + math.exp((0.44100001454353333 + 0.86799997091293335 * x0 - 2.3900001049041748 * x1))))), 2) - 0.019999999552965164 * pow((-0.094999998807907104 + (-0.72399997711181641 / (1 + math.exp((1.4500000476837158 + 2.2709999084472656 * x0 - 0.035999998450279236 * x1)))) + (-0.041000001132488251 / (1 + math.exp((4.5869998931884766 - 0.14499999582767487 * x0 + 2.1189999580383301 * x1)))) + (0.17000000178813934 / (1 + math.exp((0.18500000238418579 + 0.59799998998641968 * x0 - 2.3910000324249268 * x1)))) + (0.24199999868869781 / (1 + math.exp((-1.5820000171661377 - 0.32499998807907104 * x0 - 2.9619998931884766 * x1)))) + (0.41499999165534973 / (1 + math.exp((4.7290000915527344 - 2.1909999847412109 * x0 + 1.8890000581741333 * x1)))) + (0.55299997329711914 / (1 + math.exp((5.0430002212524414 - 3.7460000514984131 * x0 - 0.57999998331069946 * x1)))) + (0.82300001382827759 / (1 + math.exp((0.44100001454353333 + 0.86799997091293335 * x0 - 2.3900001049041748 * x1)))) + (1.1150000095367432 / (1 + math.exp((0.89200001955032349 + 2.6979999542236328 * x0 - 2.875999927520752 * x1)))) + (1.2419999837875366 / (1 + math.exp((2.2880001068115234 - 2.7179999351501465 * x0 + 0.27500000596046448 * x1)))) + (1.7000000476837158 / (1 + math.exp((1.6000000238418579 - 3.7170000076293945 * x0 - 1.3589999675750732 * x1))))), 2) - 0.23399999737739563 * pow((0.057000000029802322 + (-1.4589999914169312 / (1 + math.exp((4.7290000915527344 - 2.1909999847412109 * x0 + 1.8890000581741333 * x1)))) + (-1.034000039100647 / (1 + math.exp((5.0430002212524414 - 3.7460000514984131 * x0 - 0.57999998331069946 * x1)))) + (-0.71899998188018799 / (1 + math.exp((-1.5820000171661377 - 0.32499998807907104 * x0 - 2.9619998931884766 * x1)))) + (-0.66100001335144043 / (1 + math.exp((1.4500000476837158 + 2.2709999084472656 * x0 - 0.035999998450279236 * x1)))) + (-0.38199999928474426 / (1 + math.exp((0.18500000238418579 + 0.59799998998641968 * x0 - 2.3910000324249268 * x1)))) + (-0.29100000858306885 / (1 + math.exp((2.2880001068115234 - 2.7179999351501465 * x0 + 0.27500000596046448 * x1)))) + (-0.23999999463558197 / (1 + math.exp((1.6000000238418579 - 3.7170000076293945 * x0 - 1.3589999675750732 * x1)))) + (-0.11699999868869781 / (1 + math.exp((4.5869998931884766 - 0.14499999582767487 * x0 + 2.1189999580383301 * x1)))) + (0.51499998569488525 / (1 + math.exp((0.89200001955032349 + 2.6979999542236328 * x0 - 2.875999927520752 * x1)))) + (0.76999998092651367 / (1 + math.exp((0.44100001454353333 + 0.86799997091293335 * x0 - 2.3900001049041748 * x1))))), 2) + 0.1809999942779541 * pow((0.55000001192092896 + (-1.3609999418258667 / (1 + math.exp((0.18500000238418579 + 0.59799998998641968 * x0 - 2.3910000324249268 * x1)))) + (-0.92100000381469727 / (1 + math.exp((5.0430002212524414 - 3.7460000514984131 * x0 - 0.57999998331069946 * x1)))) + (-0.3919999897480011 / (1 + math.exp((4.5869998931884766 - 0.14499999582767487 * x0 + 2.1189999580383301 * x1)))) + (-0.016000000759959221 / (1 + math.exp((4.7290000915527344 - 2.1909999847412109 * x0 + 1.8890000581741333 * x1)))) + (0.016000000759959221 / (1 + math.exp((1.6000000238418579 - 3.7170000076293945 * x0 - 1.3589999675750732 * x1)))) + (0.12399999797344208 / (1 + math.exp((0.44100001454353333 + 0.86799997091293335 * x0 - 2.3900001049041748 * x1)))) + (0.20299999415874481 / (1 + math.exp((2.2880001068115234 - 2.7179999351501465 * x0 + 0.27500000596046448 * x1)))) + (0.48199999332427979 / (1 + math.exp((1.4500000476837158 + 2.2709999084472656 * x0 - 0.035999998450279236 * x1)))) + (1.7430000305175781 / (1 + math.exp((-1.5820000171661377 - 0.32499998807907104 * x0 - 2.9619998931884766 * x1)))) + (3.0130000114440918 / (1 + math.exp((0.89200001955032349 + 2.6979999542236328 * x0 - 2.875999927520752 * x1))))), 2) - 0.48199999332427979 * pow((1.1950000524520874 + (-1.1959999799728394 / (1 + math.exp((0.18500000238418579 + 0.59799998998641968 * x0 - 2.3910000324249268 * x1)))) + (-1.0210000276565552 / (1 + math.exp((-1.5820000171661377 - 0.32499998807907104 * x0 - 2.9619998931884766 * x1)))) + (-0.5350000262260437 / (1 + math.exp((0.44100001454353333 + 0.86799997091293335 * x0 - 2.3900001049041748 * x1)))) + (-0.29800000786781311 / (1 + math.exp((1.6000000238418579 - 3.7170000076293945 * x0 - 1.3589999675750732 * x1)))) + (-0.19300000369548798 / (1 + math.exp((5.0430002212524414 - 3.7460000514984131 * x0 - 0.57999998331069946 * x1)))) + (0.44200000166893005 / (1 + math.exp((1.4500000476837158 + 2.2709999084472656 * x0 - 0.035999998450279236 * x1)))) + (0.44499999284744263 / (1 + math.exp((2.2880001068115234 - 2.7179999351501465 * x0 + 0.27500000596046448 * x1)))) + (0.87999999523162842 / (1 + math.exp((0.89200001955032349 + 2.6979999542236328 * x0 - 2.875999927520752 * x1)))) + (0.96299999952316284 / (1 + math.exp((4.7290000915527344 - 2.1909999847412109 * x0 + 1.8890000581741333 * x1)))) + (1.4220000505447388 / (1 + math.exp((4.5869998931884766 - 0.14499999582767487 * x0 + 2.1189999580383301 * x1))))), 2) - 0.31099998950958252 * pow((1.6069999933242798 + (-1.8519999980926514 / (1 + math.exp((1.6000000238418579 - 3.7170000076293945 * x0 - 1.3589999675750732 * x1)))) + (-1.3839999437332153 / (1 + math.exp((5.0430002212524414 - 3.7460000514984131 * x0 - 0.57999998331069946 * x1)))) + (-1.0299999713897705 / (1 + math.exp((0.18500000238418579 + 0.59799998998641968 * x0 - 2.3910000324249268 * x1)))) + (-0.49300000071525574 / (1 + math.exp((2.2880001068115234 - 2.7179999351501465 * x0 + 0.27500000596046448 * x1)))) + (-0.29699999094009399 / (1 + math.exp((-1.5820000171661377 - 0.32499998807907104 * x0 - 2.9619998931884766 * x1)))) + (-0.15700000524520874 / (1 + math.exp((4.7290000915527344 - 2.1909999847412109 * x0 + 1.8890000581741333 * x1)))) + (0.17700000107288361 / (1 + math.exp((0.44100001454353333 + 0.86799997091293335 * x0 - 2.3900001049041748 * x1)))) + (0.60100001096725464 / (1 + math.exp((4.5869998931884766 - 0.14499999582767487 * x0 + 2.1189999580383301 * x1)))) + (1.0049999952316284 / (1 + math.exp((0.89200001955032349 + 2.6979999542236328 * x0 - 2.875999927520752 * x1)))) + (1.0800000429153442 / (1 + math.exp((1.4500000476837158 + 2.2709999084472656 * x0 - 0.035999998450279236 * x1))))), 2))\n",
    "    return barrier\n",
    "\"\"\"\n",
    "fossil_eval = py\"eval_fossil_barrier\";\n",
    "\n",
    "function B_lex(state, zero_level_barriers, one_level_barriers, two_level_barriers)\n",
    "   b0, u0 = maximum([ (B(state...), u) for (B, u) in zero_level_barriers])\n",
    "   if (b0 >= 0)\n",
    "        return b0, u0\n",
    "    end\n",
    "   b1, u1 = maximum([ (B(state...), u) for (B, u) in one_level_barriers])\n",
    "   if (b1 >= 0)\n",
    "        return b1, u1\n",
    "    end\n",
    "   b2, u2 = maximum([ (B(state...), u) for (B, u) in two_level_barriers])\n",
    "   if (b2 >= 0)\n",
    "        return b2, u2\n",
    "   end\n",
    "   return max((b0, u0), (b1, u1), (b2, u2))\n",
    "end\n",
    "\n",
    "function fossil_comparisons(zero_level_barriers,first_level_barriers,second_level_barriers, fossil_eval, test_pts_fixed_seed)\n",
    "    counter = 0\n",
    "    counter_f = 0\n",
    "    counter_s = 0\n",
    "    counter_x = 0\n",
    "    for pt in test_pts_fixed_seed\n",
    "        c,_ = B_lex(pt, zero_level_barriers, first_level_barriers, second_level_barriers )\n",
    "        if (fossil_eval(pt[1],pt[2]))>=0 && -c < 0\n",
    "            counter = counter + 1\n",
    "        end\n",
    "        if (fossil_eval(pt[1],pt[2]))<0\n",
    "            counter_f = counter_f + 1\n",
    "        end\n",
    "        if (-c)<0\n",
    "            counter_s = counter_s + 1\n",
    "        end\n",
    "        if (fossil_eval(pt[1],pt[2]))<0 && -c >= 0\n",
    "            counter_x = counter_x + 1\n",
    "        end\n",
    "    end\n",
    "    println(\"Total test points: 1000\")\n",
    "    println(\"Safe in FOSSIL: $(counter)\")\n",
    "    println(\"Safe in Ours: $(counter_s)\")\n",
    "    println(\"Unsafe in FOSSIL and Safe in Ours: $(counter_f)\")\n",
    "    println(\"Safe in FOSSIL and Unsafe in Ours: $(counter_x)\")\n",
    "    \n",
    "    return counter_f, counter_s, counter, counter_x\n",
    "end"
   ]
  },
  {
   "cell_type": "code",
   "execution_count": null,
   "id": "6f0ed5fc",
   "metadata": {},
   "outputs": [],
   "source": [
    "fossil_comparisons(zero_level_barriers,first_level_barriers,second_level_barriers, fossil_eval, test_pts_fixed_seed)"
   ]
  },
  {
   "cell_type": "markdown",
   "id": "0ee58f0b",
   "metadata": {},
   "source": [
    "# 5. Verification"
   ]
  },
  {
   "cell_type": "code",
   "execution_count": null,
   "id": "384b9a21",
   "metadata": {},
   "outputs": [],
   "source": [
    "\"\"\"\n",
    "Certifying barriers using constraint PSD check\n",
    "\"\"\"\n",
    "\n",
    "using DelimitedFiles\n",
    "\n",
    "function check_psd_constraints(multipliers_array::Vector)\n",
    "    counter = 0\n",
    "    M = []\n",
    "    for mults in multipliers_array\n",
    "        for lms in mults\n",
    "            for lm in lms\n",
    "                if !isposdef(Matrix(lm.Q)) && !isposdef(Diagonal(svd(Matrix(lm.Q)).S))\n",
    "                    counter += 1\n",
    "                else \n",
    "#                     display(Matrix(lm.Q))\n",
    "                    push!(M, [Matrix(lm.Q)])\n",
    "                end\n",
    "            end\n",
    "        end\n",
    "    end\n",
    "    open(\"matrices_p1.txt\", \"w\") do io\n",
    "        writedlm(io, M)\n",
    "    end\n",
    "    if counter==0\n",
    "        println(\"All constraints are PSD: Barrier certified\")\n",
    "    else\n",
    "        println(\"PSD check failed!\")\n",
    "    end\n",
    "end"
   ]
  },
  {
   "cell_type": "code",
   "execution_count": null,
   "id": "c6e098c4",
   "metadata": {},
   "outputs": [],
   "source": [
    "all_barrier_plus = push!([first_level_barriers], second_level_barriers);"
   ]
  },
  {
   "cell_type": "code",
   "execution_count": null,
   "id": "336bf996",
   "metadata": {},
   "outputs": [],
   "source": [
    "lms=[]\n",
    "for i in all_barrier_plus\n",
    "    if (!ismissing(i[1][4]))\n",
    "        lms = append!(lms,i[1][4])\n",
    "    end\n",
    "end"
   ]
  },
  {
   "cell_type": "code",
   "execution_count": null,
   "id": "21b4b5b5",
   "metadata": {},
   "outputs": [],
   "source": [
    "check_psd_constraints([lm0,lm1,lms])"
   ]
  },
  {
   "cell_type": "code",
   "execution_count": null,
   "id": "64802ddf",
   "metadata": {},
   "outputs": [],
   "source": [
    "value(all_barrier_plus[1][1][5])"
   ]
  },
  {
   "cell_type": "code",
   "execution_count": null,
   "id": "bf7db9ad",
   "metadata": {},
   "outputs": [],
   "source": [
    "all_barrier_plus[1][1][5]"
   ]
  },
  {
   "cell_type": "code",
   "execution_count": null,
   "id": "e8c41b6a",
   "metadata": {},
   "outputs": [],
   "source": [
    "cs=[]\n",
    "for i in all_barrier_plus\n",
    "    if (!ismissing(i[1][5]))\n",
    "        lms = append!(cs,value(i[1][5]))\n",
    "    end\n",
    "end"
   ]
  },
  {
   "cell_type": "code",
   "execution_count": null,
   "id": "39be4658",
   "metadata": {},
   "outputs": [],
   "source": [
    "cs"
   ]
  }
 ],
 "metadata": {
  "kernelspec": {
   "display_name": "Julia 1.10.0",
   "language": "julia",
   "name": "julia-1.10"
  },
  "language_info": {
   "file_extension": ".jl",
   "mimetype": "application/julia",
   "name": "julia",
   "version": "1.10.0"
  }
 },
 "nbformat": 4,
 "nbformat_minor": 5
}
