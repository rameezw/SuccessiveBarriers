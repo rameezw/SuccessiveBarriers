{
 "cells": [
  {
   "cell_type": "code",
   "execution_count": null,
   "id": "7ce73e0c",
   "metadata": {
    "ExecuteTime": {
     "end_time": "2024-06-13T17:31:45.979000-06:00"
    }
   },
   "outputs": [],
   "source": [
    "using DynamicPolynomials\n",
    "using SumOfSquares\n",
    "using CSDP\n",
    "using JuMP\n",
    "using Plots\n",
    "using LinearAlgebra\n",
    "using DifferentialEquations\n",
    "using PyCall"
   ]
  },
  {
   "cell_type": "markdown",
   "id": "bb554ac2",
   "metadata": {},
   "source": [
    "$$x' = u (1 - \\theta^2/2), y' = u (\\theta - \\theta^3/3), \\theta' = u_2 $$ "
   ]
  },
  {
   "cell_type": "markdown",
   "id": "1062fdc0",
   "metadata": {},
   "source": [
    "# 0. Init system variable and parameters"
   ]
  },
  {
   "cell_type": "code",
   "execution_count": null,
   "id": "26aa3d76",
   "metadata": {
    "ExecuteTime": {
     "end_time": "2024-06-13T17:31:52.495000-06:00"
    }
   },
   "outputs": [],
   "source": [
    "#init state and input variables\n",
    "@polyvar x[1:3]\n",
    "@polyvar u[1:2]\n",
    "\n",
    "#define system dynamics\n",
    "vectorField = [ (1 - x[3]^2/2), (x[3] - x[3]^3/3), u[1] ]\n",
    "\n",
    "#define unsafe set (obstacle)\n",
    "g = 0.1^2 - x[1]^2 - x[2]^2\n",
    "\n",
    "#state and input bounds\n",
    "bounds = [[-10., 10.], [-10., 10.], [-π, π] ]\n",
    "u_bounds = [[-0.1,0.1],[-0.1,0.1]]"
   ]
  },
  {
   "cell_type": "code",
   "execution_count": null,
   "id": "b89e2935",
   "metadata": {
    "ExecuteTime": {
     "end_time": "2024-06-13T17:31:52.713000-06:00",
     "start_time": "2024-06-13T23:31:33.122Z"
    }
   },
   "outputs": [],
   "source": [
    "function prepare_domain(x::Vector{<:Variable}, bounds::Vector{Vector{Float64}})\n",
    "   poly_list = [ \n",
    "        @set(x[i] - l >= 0) ∩ @set(u - x[i] >= 0 ) ∩ @set((x[i] -l)*(u-x[i]) >= 0)\n",
    "        for (i, (l, u)) in enumerate(bounds)\n",
    "        ] \n",
    "   poly_list\n",
    "end"
   ]
  },
  {
   "cell_type": "code",
   "execution_count": null,
   "id": "bdd7b80e",
   "metadata": {
    "ExecuteTime": {
     "end_time": "2024-06-13T17:31:52.729000-06:00",
     "start_time": "2024-06-13T23:31:33.793Z"
    }
   },
   "outputs": [],
   "source": [
    "#instantiate parameters\n",
    "λ = 1\n",
    "ϵ = 1\n",
    "max_degree=4\n",
    "U = [[-0.1, -0.1], [0.1, 0.1]]"
   ]
  },
  {
   "cell_type": "code",
   "execution_count": null,
   "id": "8c0e6a53",
   "metadata": {
    "ExecuteTime": {
     "end_time": "2024-06-13T17:31:52.968000-06:00",
     "start_time": "2024-06-13T23:31:34.529Z"
    }
   },
   "outputs": [],
   "source": [
    "# generate test points\n",
    "function get_random(limits::Vector{Vector{Float64}}, g::Polynomial)\n",
    "    function get_random_scalar(lb, ub )\n",
    "        lb + rand()*(ub - lb) \n",
    "    end\n",
    "    while (true)\n",
    "        pt = [get_random_scalar(l[1], l[2]) for l in limits]\n",
    "        if g(pt[1], pt[2]) >= 0\n",
    "            continue\n",
    "        else\n",
    "            return pt\n",
    "        end\n",
    "    end\n",
    "end\n",
    "\n",
    "test_pts = [ get_random(bounds, g) for _ in 1:25];"
   ]
  },
  {
   "cell_type": "markdown",
   "id": "75288956",
   "metadata": {},
   "source": [
    "# 1. Computing initial set of barriers for each input U_i"
   ]
  },
  {
   "cell_type": "code",
   "execution_count": null,
   "id": "5e027499",
   "metadata": {
    "ExecuteTime": {
     "end_time": "2024-06-13T17:31:53.919000-06:00",
     "start_time": "2024-06-13T23:31:35.681Z"
    }
   },
   "outputs": [],
   "source": [
    "# function to generate initial barriers for each input\n",
    "\n",
    "function generate_barrier(x, u, bounds, g, vectorField, U, test_pts; max_degree=4,ϵ = 0.25, λ = 0.1, γ = 10.)\n",
    "    solver = optimizer_with_attributes(CSDP.Optimizer)\n",
    "    model = SOSModel(solver)\n",
    "    dom_list = prepare_domain(x, bounds)\n",
    "    dom = reduce( (s1, s2) -> s1 ∩ s2, dom_list)\n",
    "    #println(\"Domain: $dom\")\n",
    "    # negative inside the obstacle\n",
    "    monos = monomials(x, 0:max_degree)\n",
    "    N = length(monos) \n",
    "    @variable(model, -γ <= c[1:N] <= γ)\n",
    "    \n",
    "    B = polynomial(c[1:end], monos) \n",
    "    #negative inside the domain\n",
    "    @constraint(model, cons1, B <= -ϵ, domain=dom ∩ @set(g >= 0) )\n",
    "    B_dot = dot(differentiate(B,x), vectorField)\n",
    "    B_dot_with_u = subs(B_dot, u => U)\n",
    "    @constraint(model, cons2, B_dot_with_u >= λ * B, domain=dom)\n",
    "    \n",
    "    set_objective_sense(model, MOI.FEASIBILITY_SENSE)\n",
    "    objective_fn = sum([B(pt...) for pt in test_pts])\n",
    "    @objective(model, Max, objective_fn) # keep as many points outside the barrier as you can\n",
    "    JuMP.optimize!(model)\n",
    "    stat = JuMP.primal_status(model)\n",
    "    if stat != FEASIBLE_POINT\n",
    "        return missing\n",
    "    end\n",
    "    # found feasible point\n",
    "    println(solution_summary(model))\n",
    "    lm = [lagrangian_multipliers(cons1)]\n",
    "    push!(lm, lagrangian_multipliers(cons2))\n",
    "    value(B), value(B_dot), lm\n",
    "end"
   ]
  },
  {
   "cell_type": "code",
   "execution_count": null,
   "id": "97267cc0",
   "metadata": {},
   "outputs": [],
   "source": [
    "# function to comupte transit time for each barrier \n",
    "\n",
    "function refine_barrier_dn(x, u, bounds, u_bounds, g, vectorField, B, B_dot; ϵ = 0.25, κ = .1)\n",
    "    solver = optimizer_with_attributes(CSDP.Optimizer)\n",
    "    model = SOSModel(solver)\n",
    "    dom_list = prepare_domain(x, bounds)\n",
    "    dom_list_u = prepare_domain(u, u_bounds)\n",
    "    dom_list = append!(dom_list, dom_list_u)\n",
    "    dom = reduce( (s1, s2) -> s1 ∩ s2, dom_list)\n",
    "    #println(\"Domain: $dom\")\n",
    "    # negative inside the obstacle\n",
    "    monos = monomials(x, 0:max_degree)\n",
    "    N = length(monos) \n",
    "    @variable(model, η)\n",
    "    @variable(model, δ >=0)\n",
    "    dom3 = dom ∩ @set(B >= 0) ∩ @set(B <= κ)\n",
    "    @constraint(model, -η*B - δ <= B_dot, domain=dom3)\n",
    "    @constraint(model, η*κ + δ >= 0)\n",
    "    @objective(model, Min, δ)\n",
    "    JuMP.optimize!(model)\n",
    "    stat = JuMP.primal_status(model)\n",
    "    if stat != FEASIBLE_POINT\n",
    "        return missing\n",
    "    end\n",
    "    # found feasible point\n",
    "    println(solution_summary(model))\n",
    "    println(\"η = $(JuMP.value(η))\")\n",
    "    println(\"δ = $(JuMP.value(δ))\")\n",
    "    τ =  (κ)/max(JuMP.value(δ),JuMP.value(η) *  κ + JuMP.value(δ))\n",
    "    println(\"τd = $(JuMP.value(τ))\")\n",
    "    return τ\n",
    "end"
   ]
  },
  {
   "cell_type": "code",
   "execution_count": null,
   "id": "320408ca",
   "metadata": {
    "ExecuteTime": {
     "end_time": "2024-06-13T17:32:37.436000-06:00",
     "start_time": "2024-06-13T23:32:35.412Z"
    }
   },
   "outputs": [],
   "source": [
    "elapsed1 = @elapsed begin\n",
    "B_0, B_0d, lm0 = generate_barrier(x, u, bounds, g, vectorField, U[1], test_pts; max_degree = 2)\n",
    "end\n",
    "display(B_0)\n",
    "display(B_0d)\n",
    "t_0d = refine_barrier_dn(x, u, bounds, u_bounds, g, vectorField, B_0,  B_0d)\n",
    "\n",
    "if (!ismissing(B_0))\n",
    "    test_pts = filter!(pt -> B_0(pt...) <= 0., test_pts)\n",
    "end"
   ]
  },
  {
   "cell_type": "code",
   "execution_count": null,
   "id": "02129f27",
   "metadata": {},
   "outputs": [],
   "source": [
    "elapsed2 = @elapsed begin\n",
    "B_1, B_1d, lm1 = generate_barrier(x, u, bounds, g, vectorField, U[2], test_pts; max_degree=2)\n",
    "end\n",
    "display(B_1)\n",
    "display(B_1d)\n",
    "t_1d = refine_barrier_dn(x, u, bounds, u_bounds, g, vectorField, B_1,  B_1d)\n",
    "\n",
    "if (!ismissing(B_1))\n",
    "    test_pts = filter!(pt -> B_1(pt...) <= 0., test_pts)\n",
    "end"
   ]
  },
  {
   "cell_type": "markdown",
   "id": "4d888368",
   "metadata": {},
   "source": [
    "# 2. Computing Successive Barriers"
   ]
  },
  {
   "cell_type": "code",
   "execution_count": null,
   "id": "d208a18a",
   "metadata": {},
   "outputs": [],
   "source": [
    "# functions to compute successive barriers"
   ]
  },
  {
   "cell_type": "code",
   "execution_count": null,
   "id": "56cec9b4",
   "metadata": {
    "ExecuteTime": {
     "end_time": "2024-06-13T17:33:52.833000-06:00",
     "start_time": "2024-06-13T23:33:52.773Z"
    }
   },
   "outputs": [],
   "source": [
    "function generate_successive_barrier(x::Vector{<:Variable}, u::Vector{<:Variable}, \n",
    "        bounds::Vector{Vector{Float64}}, g::Polynomial, \n",
    "        vectorField::Vector{<:Polynomial}, U::Vector{Float64}, \n",
    "        test_pts::Vector{Vector{Float64}}, ancestors::Vector{<:Polynomial}, \n",
    "        pt_to_eliminate::Vector{Float64}; \n",
    "        max_degree=4,ϵ = 1, λ = 1, γ = 10., κ = .1)\n",
    "    solver = optimizer_with_attributes(CSDP.Optimizer, MOI.Silent() => true)\n",
    "    model = SOSModel(solver)\n",
    "    dom_list = prepare_domain(x, bounds)\n",
    "    dom = reduce( (s1, s2) -> s1 ∩ s2, dom_list)\n",
    "    #println(\"Domain: $dom\")\n",
    "\n",
    "    monos = monomials(x, 0:max_degree)\n",
    "    N = length(monos) \n",
    "    @variable(model, -γ <= c[1:N] <= γ)\n",
    "    \n",
    "    B = polynomial(c[1:end], monos) \n",
    "    # negative inside the obstacle\n",
    "    @constraint(model, cons1, B <= -ϵ, domain=dom ∩ @set(g >= 0) )\n",
    "    \n",
    "    # dynamics constraints\n",
    "    B_dot = dot(differentiate(B,x), vectorField)\n",
    "    B_dot_with_u = subs(B_dot, u => U)\n",
    "    if size(ancestors)[1] >= 1\n",
    "        new_domain = dom ∩ (reduce(∩, [@set(B <= 0) for B in ancestors]))\n",
    "    else\n",
    "        new_domain = dom \n",
    "    end\n",
    "    @constraint(model, cons2, B_dot_with_u >= λ * B, domain=new_domain)\n",
    "    \n",
    "    # eliminate the point we would like to eliminate\n",
    "    @constraint(model, B(pt_to_eliminate...) >= ϵ)\n",
    "    set_objective_sense(model, MOI.FEASIBILITY_SENSE)\n",
    "    \n",
    "    # maximize the sum of values for all test points\n",
    "    objective_fn = sum([B(pt...) for pt in test_pts])\n",
    "    @objective(model, Max, objective_fn) # keep as many points outside the barrier as you can\n",
    "    JuMP.optimize!(model)\n",
    "    stat = JuMP.primal_status(model)\n",
    "    if stat != FEASIBLE_POINT\n",
    "        return missing\n",
    "    end\n",
    "    # found feasible point\n",
    "    println(solution_summary(model))\n",
    "    lm = [lagrangian_multipliers(cons1)]\n",
    "    push!(lm, lagrangian_multipliers(cons2))\n",
    "    value(B), value(B_dot), lm\n",
    "end"
   ]
  },
  {
   "cell_type": "code",
   "execution_count": null,
   "id": "a34a25f2",
   "metadata": {},
   "outputs": [],
   "source": [
    "function refine_barrier_succ_dn(x, u, bounds, u_bounds, g, vectorField, B, B_dot, ancestors; ϵ = 0.25, κ = .1)\n",
    "    solver = optimizer_with_attributes(CSDP.Optimizer)\n",
    "    model = SOSModel(solver)\n",
    "    dom_list = prepare_domain(x, bounds)\n",
    "    dom_list_u = prepare_domain(u, u_bounds)\n",
    "    dom_list = append!(dom_list, dom_list_u)\n",
    "    dom = reduce( (s1, s2) -> s1 ∩ s2, dom_list)\n",
    "    #println(\"Domain: $dom\")\n",
    "    # negative inside the obstacle\n",
    "    monos = monomials(x, 0:max_degree)\n",
    "    N = length(monos) \n",
    "    @variable(model, η)\n",
    "    @variable(model, δ>=0)\n",
    "\n",
    "    if size(ancestors)[1] >= 1\n",
    "        new_domain = dom ∩ (reduce(∩, [@set(b <= 0) for b in ancestors]))\n",
    "    else\n",
    "        new_domain = dom \n",
    "    end\n",
    "    \n",
    "    dom3 = new_domain ∩ @set(B >= 0) ∩ @set(B <= κ)\n",
    "    @constraint(model, -η*B - δ <= B_dot, domain=dom3)\n",
    "    @constraint(model, η*κ + δ >= 0)\n",
    "\n",
    "    #set_objective_sense(model, MOI.FEASIBILITY_SENSE)\n",
    "    @objective(model, Min, δ)\n",
    "    JuMP.optimize!(model)\n",
    "    stat = JuMP.primal_status(model)\n",
    "    if stat != FEASIBLE_POINT\n",
    "        return missing\n",
    "    end\n",
    "    # found feasible point\n",
    "    println(solution_summary(model))\n",
    "    println(\"η = $(value(η))\")\n",
    "    println(\"δ = $(value(δ))\")\n",
    "    τ =  (κ)/max(value(δ),value(η) *  κ + value(δ))\n",
    "    println(\"τd = $(value(τ))\")\n",
    "    return τ\n",
    "end"
   ]
  },
  {
   "cell_type": "code",
   "execution_count": null,
   "id": "cdb7f4df",
   "metadata": {
    "ExecuteTime": {
     "end_time": "2024-06-13T17:33:54.928000-06:00",
     "start_time": "2024-06-13T23:33:54.885Z"
    }
   },
   "outputs": [],
   "source": [
    "function compute_next_level_barriers(x::Vector{<:Variable}, u::Vector{<:Variable}, bounds::Vector{Vector{Float64}},\n",
    "                                    u_bounds::Vector{Vector{Float64}},\n",
    "                                    g::Polynomial, vectorField::Vector{<:Polynomial}, \n",
    "                                    U::Vector{Vector{Float64}}, test_pts::Vector{Vector{Float64}}, \n",
    "                                    ancestors::Vector{<:Polynomial}) \n",
    "    eliminated = []\n",
    "    second_level_barriers=[]\n",
    "    for (j,pt) in enumerate(test_pts) \n",
    "        if j in eliminated\n",
    "            # ignore the ones already eliminated\n",
    "            continue\n",
    "        end\n",
    "        # go through each control \n",
    "        for u_val in U\n",
    "            # generate a barrier \n",
    "            B = generate_successive_barrier(x, u, bounds, g, vectorField, u_val, test_pts, ancestors, pt)\n",
    "            # check if we found something\n",
    "            if !ismissing(B)\n",
    "                println(\"Bingo: Found $B\")\n",
    "                useful = false # check if it is actually useful\n",
    "                for (k,pt_new) in enumerate(test_pts)\n",
    "                    if k in eliminated\n",
    "                        continue\n",
    "                    end\n",
    "                   if (B[1](pt_new...) >= 0.)\n",
    "                    push!(eliminated, k)   \n",
    "                    println(\"\\t eliminated $pt_new\")\n",
    "                    useful=true\n",
    "                   end\n",
    "                end\n",
    "                if (useful)\n",
    "                    println(\"Num remaining = $(size(test_pts)[1] - size(eliminated)[1])\")\n",
    "                    td = refine_barrier_succ_dn(x, u, bounds, u_bounds, g, vectorField, B[1],  B[2], ancestors)         \n",
    "                    push!(second_level_barriers, (B[1], u_val, td,  B[3]))\n",
    "                    break\n",
    "                end\n",
    "            end\n",
    "        end\n",
    "    end\n",
    "    new_test_pts = [pt for (j, pt) in enumerate(test_pts) if !(j in eliminated)]\n",
    "    return (second_level_barriers, new_test_pts)\n",
    "end"
   ]
  },
  {
   "cell_type": "code",
   "execution_count": null,
   "id": "dd8b96e6",
   "metadata": {
    "ExecuteTime": {
     "end_time": "2024-06-13T17:37:07.323000-06:00",
     "start_time": "2024-06-13T23:34:49.356Z"
    },
    "scrolled": true
   },
   "outputs": [],
   "source": [
    "zero_level_barriers::Vector{Polynomial} =[B_0, B_1]\n",
    "print(size(zero_level_barriers))\n",
    "s_elapsed = @elapsed begin\n",
    "(first_level_barriers, test_pts_1) = compute_next_level_barriers(x, u, bounds, u_bounds, g, vectorField, U, test_pts, zero_level_barriers)\n",
    "end"
   ]
  },
  {
   "cell_type": "code",
   "execution_count": null,
   "id": "bc118082",
   "metadata": {},
   "outputs": [],
   "source": []
  },
  {
   "cell_type": "code",
   "execution_count": null,
   "id": "19363f60",
   "metadata": {},
   "outputs": [],
   "source": [
    "test_pts_1 = [ get_random(bounds, g) for _ in 1:25];"
   ]
  },
  {
   "cell_type": "code",
   "execution_count": null,
   "id": "434c339e",
   "metadata": {
    "ExecuteTime": {
     "end_time": "2024-06-13T17:40:12.380000-06:00",
     "start_time": "2024-06-13T23:38:43.677Z"
    }
   },
   "outputs": [],
   "source": [
    "all_barriers1::Vector{Polynomial} = []\n",
    "append!(all_barriers1, zero_level_barriers)\n",
    "append!(all_barriers1, [B for (B, _) in first_level_barriers])\n",
    "(second_level_barriers, test_pts_2) = compute_next_level_barriers(x, u, bounds, u_bounds, g, vectorField, U, test_pts_1, all_barriers1)"
   ]
  },
  {
   "cell_type": "markdown",
   "id": "0f18557b",
   "metadata": {},
   "source": [
    "# 3. Plots"
   ]
  },
  {
   "cell_type": "code",
   "execution_count": null,
   "id": "77d8efbb",
   "metadata": {},
   "outputs": [],
   "source": [
    "# plotting functions\n",
    "\n",
    "function circleShape(x,y, r)\n",
    "    θ = LinRange(0, 2*π, 500)\n",
    "    x .+ r*cos.(θ), y .+ r*sin.(θ)\n",
    "end\n",
    "\n",
    "function plot_ci_region3lev(limits::Tuple{Float64,Float64}, lev1_barriers::Vector{<:Polynomial}, lev2_barriers::Vector{<:Polynomial}, lev3_barriers::Vector{<:Polynomial}; δ = 0.1, theta_val=0.0, filestem=\"ics\")\n",
    "    plot(xlims=limits, ylims=limits)\n",
    "    rectangle(w, h, x, y) = Shape(x .+ [0,w,w,0], y .+ [0,0,h,h])\n",
    "    for x in limits[1]:δ:limits[2]\n",
    "        for y in limits[1]:δ:limits[2]\n",
    "            if (any([ B(x, y, theta_val) > 0. for B in lev1_barriers]))\n",
    "                plot!(rectangle(δ, δ, x-δ, y-δ), label=false, fill=:seagreen1, opacity=0.5,linecolor=:seagreen1)\n",
    "            else\n",
    "                if (any([ B(x, y, theta_val) > 0. for B in lev2_barriers]))\n",
    "                    plot!(rectangle(δ, δ, x-δ, y-δ), label=false, fill=:limegreen, linecolor=:limegreen)\n",
    "                else\n",
    "                    if (any([ B(x, y, theta_val) > 0. for B in lev3_barriers]))\n",
    "                        plot!(rectangle(δ, δ, x-δ, y-δ), label=false, fill=:darkgreen, linecolor=:darkgreen)\n",
    "                    end\n",
    "                end \n",
    "            end\n",
    "        end\n",
    "    end\n",
    "    plot!(circleShape(0,0,0.2), seriestype =[:shape], lw=0.5, c=:black, linecolor=:black, legend=false, aspectratio=1  )\n",
    "    plot!(xlims=limits, ylims=limits)\n",
    "    filename=\"figures/$filestem-theta-$(round(theta_val; digits=2)).png\"\n",
    "    savefig(filename)\n",
    "    plot!(xlims=limits, ylims=limits)\n",
    "end"
   ]
  },
  {
   "cell_type": "code",
   "execution_count": null,
   "id": "b87b6dfb",
   "metadata": {},
   "outputs": [],
   "source": [
    "lev2_barriers::Vector{Polynomial} = [B for (B,_) in second_level_barriers]\n",
    "lev1_barriers::Vector{Polynomial} = [B for (B,_) in first_level_barriers]\n",
    "plot_ci_region3lev((-10., 10.0), [B_0, B_1], lev1_barriers, lev2_barriers; theta_val=3.14, δ=0.25, filestem=\"Figure3a-running-ex-lev2\")"
   ]
  },
  {
   "cell_type": "code",
   "execution_count": null,
   "id": "6d03acef",
   "metadata": {},
   "outputs": [],
   "source": [
    "plot_ci_region3lev((-10., 10.0), [B_0, B_1], lev1_barriers, lev2_barriers; theta_val=1.57, δ=0.25, filestem=\"Figure3b-running-ex-lev2\")"
   ]
  },
  {
   "cell_type": "code",
   "execution_count": null,
   "id": "b83b09d7",
   "metadata": {},
   "outputs": [],
   "source": [
    "plot_ci_region3lev((-10., 10.0), [B_0, B_1], lev1_barriers, lev2_barriers; theta_val=0.0, δ=0.25, filestem=\"Figure3c-running-ex-lev2\")"
   ]
  },
  {
   "cell_type": "code",
   "execution_count": null,
   "id": "259d95fd",
   "metadata": {},
   "outputs": [],
   "source": [
    "plot_ci_region3lev((-10., 10.0), [B_0, B_1], lev1_barriers, lev2_barriers; theta_val=-1.57, δ=0.25, filestem=\"Figure3d-running-ex-lev2\")"
   ]
  },
  {
   "cell_type": "code",
   "execution_count": null,
   "id": "1211503f",
   "metadata": {
    "scrolled": true
   },
   "outputs": [],
   "source": [
    "plot_ci_region3lev((-10., 10.0), [B_0, B_1], lev1_barriers, lev2_barriers; theta_val=-3.14, δ=0.25, filestem=\"Figure3e-running-ex-lev2\")"
   ]
  },
  {
   "cell_type": "code",
   "execution_count": null,
   "id": "ef9a0ae6",
   "metadata": {},
   "outputs": [],
   "source": []
  },
  {
   "cell_type": "code",
   "execution_count": null,
   "id": "b2cfb5ad",
   "metadata": {
    "scrolled": true
   },
   "outputs": [],
   "source": [
    "# minimum transit time over all barriers\n",
    "t0_min = minimum([t_0d, t_1d]);\n",
    "t1=[]\n",
    "for i in first_level_barriers\n",
    "    if (!ismissing(i[3]))\n",
    "        t1 = append!(t1,i[3])\n",
    "    end\n",
    "end\n",
    "t1 = filter(x -> x > 0, t1)\n",
    "t1_min = minimum(t1);\n",
    "t2=[]\n",
    "for i in second_level_barriers\n",
    "    if (!ismissing(i[3]))\n",
    "        t2 = append!(t2,i[3])\n",
    "    end\n",
    "end\n",
    "\n",
    "println(\"τ_min = $(minimum([t0_min, t1_min]))\")"
   ]
  },
  {
   "cell_type": "markdown",
   "id": "bfa373b9",
   "metadata": {},
   "source": [
    "# 4. Benchmarks"
   ]
  },
  {
   "cell_type": "code",
   "execution_count": null,
   "id": "28c1a54b",
   "metadata": {},
   "outputs": [],
   "source": [
    "# generating data for Table 1 in the paper (row for current system)"
   ]
  },
  {
   "cell_type": "code",
   "execution_count": null,
   "id": "d9152068",
   "metadata": {},
   "outputs": [],
   "source": [
    "println(\"Time taken for B1: $(elapsed1+elapsed2)\")\n",
    "println(\"# barriers B1: $(size(zero_level_barriers))\")\n",
    "println(\"Time taken for B2: $(s_elapsed)\")\n",
    "println(\"# barriers B2: $(size(first_level_barriers))\")"
   ]
  },
  {
   "cell_type": "markdown",
   "id": "06ccbd49",
   "metadata": {},
   "source": [
    "# 5. Verification"
   ]
  },
  {
   "cell_type": "code",
   "execution_count": null,
   "id": "91f497a0",
   "metadata": {},
   "outputs": [],
   "source": [
    "\"\"\"\n",
    "Certifying barriers using constraint PSD check\n",
    "\"\"\"\n",
    "\n",
    "using DelimitedFiles\n",
    "\n",
    "function check_psd_constraints(multipliers_array::Vector)\n",
    "    counter = 0\n",
    "    M = []\n",
    "    for mults in multipliers_array\n",
    "        for lms in mults\n",
    "            for lm in lms\n",
    "                if !isposdef(Matrix(lm.Q)) && !isposdef(Diagonal(svd(Matrix(lm.Q)).S))\n",
    "                    counter += 1\n",
    "                else \n",
    "#                     display(Matrix(lm.Q))\n",
    "                    push!(M, [Matrix(lm.Q)])\n",
    "                end\n",
    "            end\n",
    "        end\n",
    "    end\n",
    "    open(\"matrices_p4.txt\", \"w\") do io\n",
    "        writedlm(io, M)\n",
    "    end\n",
    "    if counter==0\n",
    "        println(\"All constraints are PSD: Barrier certified\")\n",
    "    else\n",
    "        println(\"PSD check failed!\")\n",
    "    end\n",
    "end"
   ]
  },
  {
   "cell_type": "code",
   "execution_count": null,
   "id": "44a4db61",
   "metadata": {},
   "outputs": [],
   "source": [
    "all_barrier_plus = push!([first_level_barriers], second_level_barriers);"
   ]
  },
  {
   "cell_type": "code",
   "execution_count": null,
   "id": "a043b3a7",
   "metadata": {},
   "outputs": [],
   "source": [
    "lms=[]\n",
    "for i in all_barrier_plus\n",
    "    if (!ismissing(i[1][4]))\n",
    "        lms = append!(lms,i[1][4])\n",
    "    end\n",
    "end"
   ]
  },
  {
   "cell_type": "code",
   "execution_count": null,
   "id": "3bd8e8f3",
   "metadata": {},
   "outputs": [],
   "source": [
    "check_psd_constraints([lm0,lm1,lms])"
   ]
  },
  {
   "cell_type": "code",
   "execution_count": null,
   "id": "202b2075",
   "metadata": {},
   "outputs": [],
   "source": []
  }
 ],
 "metadata": {
  "kernelspec": {
   "display_name": "Julia 1.10.0",
   "language": "julia",
   "name": "julia-1.10"
  },
  "language_info": {
   "file_extension": ".jl",
   "mimetype": "application/julia",
   "name": "julia",
   "version": "1.10.0"
  }
 },
 "nbformat": 4,
 "nbformat_minor": 5
}
