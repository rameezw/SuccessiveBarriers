{
 "cells": [
  {
   "cell_type": "code",
   "execution_count": null,
   "id": "7ce73e0c",
   "metadata": {
    "ExecuteTime": {
     "end_time": "2024-06-13T17:31:45.979000-06:00"
    }
   },
   "outputs": [],
   "source": [
    "using DynamicPolynomials\n",
    "using SumOfSquares\n",
    "using CSDP\n",
    "using JuMP\n",
    "using Plots\n",
    "using LinearAlgebra\n",
    "using DifferentialEquations\n",
    "using PyCall"
   ]
  },
  {
   "cell_type": "markdown",
   "id": "1062fdc0",
   "metadata": {},
   "source": [
    "# 0. Init system variable and parameters"
   ]
  },
  {
   "cell_type": "code",
   "execution_count": null,
   "id": "26aa3d76",
   "metadata": {
    "ExecuteTime": {
     "end_time": "2024-06-13T17:31:52.495000-06:00"
    }
   },
   "outputs": [],
   "source": [
    "#init state and input variables\n",
    "@polyvar x[1:4]\n",
    "@polyvar u[1:2]\n",
    "\n",
    "#define system dynamics\n",
    "vectorField = [ x[2], \n",
    "                0.5*x[1] - 0.2*x[2] + 0.05*x[3]*x[1]  - 0.01 * x[1] * x[2] - 0.5 *u[1], \n",
    "               x[4],\n",
    "                -0.4*x[4] +0.2*x[1] - 0.05 * x[3]^2  - 0.7 *u[2]  ]\n",
    "\n",
    "#define unsafe set (obstacle)\n",
    "g = 1.0 - x[1]^2 - x[3]^2\n",
    "\n",
    "#state and input bounds\n",
    "bounds = [[-10., 10.], [-10., 10.], [-10.,10.],[-10.,10.]]\n",
    "u_bounds = [[-0.1,0.1],[-0.1,0.1]]"
   ]
  },
  {
   "cell_type": "code",
   "execution_count": null,
   "id": "b89e2935",
   "metadata": {
    "ExecuteTime": {
     "end_time": "2024-06-13T17:31:52.713000-06:00",
     "start_time": "2024-06-13T23:31:33.122Z"
    }
   },
   "outputs": [],
   "source": [
    "function prepare_domain(x::Vector{<:Variable}, bounds::Vector{Vector{Float64}})\n",
    "   poly_list = [ \n",
    "        @set(x[i] - l >= 0) ∩ @set(u - x[i] >= 0 ) ∩ @set((x[i] -l)*(u-x[i]) >= 0)\n",
    "        for (i, (l, u)) in enumerate(bounds)\n",
    "        ] \n",
    "   poly_list\n",
    "end"
   ]
  },
  {
   "cell_type": "code",
   "execution_count": null,
   "id": "bdd7b80e",
   "metadata": {
    "ExecuteTime": {
     "end_time": "2024-06-13T17:31:52.729000-06:00",
     "start_time": "2024-06-13T23:31:33.793Z"
    }
   },
   "outputs": [],
   "source": [
    "#instantiate parameters\n",
    "λ = 1\n",
    "ϵ = 1\n",
    "max_degree=4\n",
    "U = [[-0.1, -0.1], [-0.1, 0.1], [0.1, -0.1], [0.1, 0.1]]"
   ]
  },
  {
   "cell_type": "code",
   "execution_count": null,
   "id": "8c0e6a53",
   "metadata": {
    "ExecuteTime": {
     "end_time": "2024-06-13T17:31:52.968000-06:00",
     "start_time": "2024-06-13T23:31:34.529Z"
    }
   },
   "outputs": [],
   "source": [
    "# generate test points\n",
    "function get_random(limits::Vector{Vector{Float64}}, g::Polynomial)\n",
    "    function get_random_scalar(lb, ub )\n",
    "        lb + rand()*(ub - lb) \n",
    "    end\n",
    "    while (true)\n",
    "        pt = [get_random_scalar(l[1], l[2]) for l in limits]\n",
    "        if g(pt[1], pt[3]) >= 0\n",
    "            continue\n",
    "        else\n",
    "            return pt\n",
    "        end\n",
    "    end\n",
    "end\n",
    "\n",
    "test_pts = [ get_random(bounds, g) for _ in 1:200];"
   ]
  },
  {
   "cell_type": "markdown",
   "id": "75288956",
   "metadata": {},
   "source": [
    "# 1. Computing initial set of barriers for each input U_i"
   ]
  },
  {
   "cell_type": "code",
   "execution_count": null,
   "id": "5e027499",
   "metadata": {
    "ExecuteTime": {
     "end_time": "2024-06-13T17:31:53.919000-06:00",
     "start_time": "2024-06-13T23:31:35.681Z"
    }
   },
   "outputs": [],
   "source": [
    "# function to generate initial barriers for each input\n",
    "\n",
    "function generate_barrier(x, u, bounds, g, vectorField, U, test_pts; max_degree=4,ϵ = 0.25, λ = 0.1, γ = 10.)\n",
    "    solver = optimizer_with_attributes(CSDP.Optimizer)\n",
    "    model = SOSModel(solver)\n",
    "    dom_list = prepare_domain(x, bounds)\n",
    "    dom = reduce( (s1, s2) -> s1 ∩ s2, dom_list)\n",
    "    #println(\"Domain: $dom\")\n",
    "    # negative inside the obstacle\n",
    "    monos = monomials(x, 0:max_degree)\n",
    "    N = length(monos) \n",
    "    @variable(model, -γ <= c[1:N] <= γ)\n",
    "    \n",
    "    B = polynomial(c[1:end], monos) \n",
    "    #negative inside the domain\n",
    "    @constraint(model, cons1, B <= -ϵ, domain=dom ∩ @set(g >= 0) )\n",
    "    B_dot = dot(differentiate(B,x), vectorField)\n",
    "    B_dot_with_u = subs(B_dot, u => U)\n",
    "    @constraint(model, cons2, B_dot_with_u >= λ * B, domain=dom)\n",
    "    \n",
    "    set_objective_sense(model, MOI.FEASIBILITY_SENSE)\n",
    "    objective_fn = sum([B(pt...) for pt in test_pts])\n",
    "    @objective(model, Max, objective_fn) # keep as many points outside the barrier as you can\n",
    "    JuMP.optimize!(model)\n",
    "    stat = JuMP.primal_status(model)\n",
    "    if stat != FEASIBLE_POINT\n",
    "        return missing\n",
    "    end\n",
    "    # found feasible point\n",
    "    println(solution_summary(model))\n",
    "    lm = [lagrangian_multipliers(cons1)]\n",
    "    push!(lm, lagrangian_multipliers(cons2))\n",
    "    value(B), value(B_dot), lm\n",
    "end"
   ]
  },
  {
   "cell_type": "code",
   "execution_count": null,
   "id": "97267cc0",
   "metadata": {},
   "outputs": [],
   "source": [
    "# function to comupte transit time for each barrier \n",
    "\n",
    "function refine_barrier(x, u, bounds, u_bounds, g, vectorField, B, B_dot; ϵ = 0.25, κ = 1.)\n",
    "    solver = optimizer_with_attributes(CSDP.Optimizer)\n",
    "    model = SOSModel(solver)\n",
    "    dom_list = prepare_domain(x, bounds)\n",
    "    dom_list_u = prepare_domain(u, u_bounds)\n",
    "    dom_list = append!(dom_list, dom_list_u)\n",
    "    dom = reduce( (s1, s2) -> s1 ∩ s2, dom_list)\n",
    "    println(\"Domain: $dom\")\n",
    "    # negative inside the obstacle\n",
    "    monos = monomials(x, 0:max_degree)\n",
    "    N = length(monos) \n",
    "    @variable(model, η)\n",
    "    @variable(model, δ >=0)\n",
    "#     @variable(model, 0 <= B <= κ)\n",
    "#     @variable(model, B_dot)\n",
    "    \n",
    "#     B_dot = dot(differentiate(B,x), vectorField)\n",
    "    dom3 = dom ∩ @set(B >= 0) ∩ @set(B <= κ)\n",
    "    @constraint(model, -η*B - δ <= B_dot, domain=dom3)\n",
    "#     @constraint(model, -η*B - δ >= 0, domain=dom3)\n",
    "\n",
    "    #set_objective_sense(model, MOI.FEASIBILITY_SENSE)\n",
    "    @objective(model, Min, δ)\n",
    "    JuMP.optimize!(model)\n",
    "    stat = JuMP.primal_status(model)\n",
    "    if stat != FEASIBLE_POINT\n",
    "        return missing\n",
    "    end\n",
    "    # found feasible point\n",
    "    println(solution_summary(model))\n",
    "    println(\"η = $(value(η))\")\n",
    "    println(\"δ = $(value(δ))\")\n",
    "    τ = κ/(value(δ))\n",
    "    println(\"τd = $(value(τ))\")\n",
    "    return τ\n",
    "end"
   ]
  },
  {
   "cell_type": "code",
   "execution_count": null,
   "id": "320408ca",
   "metadata": {
    "ExecuteTime": {
     "end_time": "2024-06-13T17:32:37.436000-06:00",
     "start_time": "2024-06-13T23:32:35.412Z"
    }
   },
   "outputs": [],
   "source": [
    "elapsed1 = @elapsed begin\n",
    "B_1, B_1d, lm1 = generate_barrier(x, u, bounds, g, vectorField, U[1], test_pts)\n",
    "end\n",
    "display(B_1)\n",
    "display(B_1d)\n",
    "t_1 = refine_barrier(x, u, bounds, u_bounds, g, vectorField, B_1,  B_1d)\n",
    "test_pts = filter!(pt -> B_1(pt...) <= 0., test_pts)"
   ]
  },
  {
   "cell_type": "code",
   "execution_count": null,
   "id": "02129f27",
   "metadata": {},
   "outputs": [],
   "source": [
    "elapsed2 = @elapsed begin\n",
    "B_2, B_2d, lm2 = generate_barrier(x, u, bounds, g, vectorField, U[2], test_pts)\n",
    "end\n",
    "display(B_2)\n",
    "display(B_2d)\n",
    "t_2 = refine_barrier(x, u, bounds, u_bounds, g, vectorField, B_2,  B_2d)\n",
    "test_pts = filter!(pt -> B_2(pt...) <= 0., test_pts)"
   ]
  },
  {
   "cell_type": "code",
   "execution_count": null,
   "id": "b33b3c0d",
   "metadata": {
    "ExecuteTime": {
     "end_time": "2024-06-13T17:32:37.436000-06:00",
     "start_time": "2024-06-13T23:32:35.412Z"
    }
   },
   "outputs": [],
   "source": [
    "elapsed3 = @elapsed begin\n",
    "B_3, B_3d, lm3 = generate_barrier(x, u, bounds, g, vectorField, U[3], test_pts)\n",
    "end\n",
    "display(B_3)\n",
    "display(B_3d)\n",
    "t_3 = refine_barrier(x, u, bounds, u_bounds, g, vectorField, B_3,  B_3d)\n",
    "test_pts = filter!(pt -> B_3(pt...) <= 0., test_pts)"
   ]
  },
  {
   "cell_type": "code",
   "execution_count": null,
   "id": "662cddc1",
   "metadata": {},
   "outputs": [],
   "source": [
    "elapsed4 = @elapsed begin\n",
    "B_4, B_4d, lm4 = generate_barrier(x, u, bounds, g, vectorField, U[4], test_pts; max_degree=2)\n",
    "end\n",
    "display(B_4)\n",
    "display(B_4d)\n",
    "t_4 = refine_barrier(x, u, bounds, u_bounds, g, vectorField, B_4,  B_4d)\n",
    "test_pts = filter!(pt -> B_4(pt...) <= 0., test_pts)"
   ]
  },
  {
   "cell_type": "code",
   "execution_count": null,
   "id": "99110ede",
   "metadata": {},
   "outputs": [],
   "source": []
  },
  {
   "cell_type": "markdown",
   "id": "4d888368",
   "metadata": {},
   "source": [
    "# 2. Computing Successive Barriers"
   ]
  },
  {
   "cell_type": "code",
   "execution_count": null,
   "id": "d208a18a",
   "metadata": {},
   "outputs": [],
   "source": [
    "# functions to compute successive barriers"
   ]
  },
  {
   "cell_type": "code",
   "execution_count": null,
   "id": "56cec9b4",
   "metadata": {
    "ExecuteTime": {
     "end_time": "2024-06-13T17:33:52.833000-06:00",
     "start_time": "2024-06-13T23:33:52.773Z"
    }
   },
   "outputs": [],
   "source": [
    "function generate_successive_barrier(x::Vector{<:Variable}, u::Vector{<:Variable}, \n",
    "        bounds::Vector{Vector{Float64}}, g::Polynomial, \n",
    "        vectorField::Vector{<:Polynomial}, U::Vector{Float64}, \n",
    "        test_pts::Vector{Vector{Float64}}, ancestors::Vector{<:Polynomial}, \n",
    "        pt_to_eliminate::Vector{Float64}; \n",
    "        max_degree=4,ϵ = 1, λ = 1, γ = 10., κ = .1)\n",
    "    solver = optimizer_with_attributes(CSDP.Optimizer, MOI.Silent() => true)\n",
    "    model = SOSModel(solver)\n",
    "    dom_list = prepare_domain(x, bounds)\n",
    "    dom = reduce( (s1, s2) -> s1 ∩ s2, dom_list)\n",
    "    #println(\"Domain: $dom\")\n",
    "\n",
    "    monos = monomials(x, 0:max_degree)\n",
    "    N = length(monos) \n",
    "    @variable(model, -γ <= c[1:N] <= γ)\n",
    "    \n",
    "    B = polynomial(c[1:end], monos) \n",
    "    # negative inside the obstacle\n",
    "    @constraint(model, cons1, B <= -ϵ, domain=dom ∩ @set(g >= 0) )\n",
    "    \n",
    "    # dynamics constraints\n",
    "    B_dot = dot(differentiate(B,x), vectorField)\n",
    "    B_dot_with_u = subs(B_dot, u => U)\n",
    "    if size(ancestors)[1] >= 1\n",
    "        new_domain = dom ∩ (reduce(∩, [@set(B <= 0) for B in ancestors]))\n",
    "    else\n",
    "        new_domain = dom \n",
    "    end\n",
    "    @constraint(model, cons2, B_dot_with_u >= λ * B, domain=new_domain)\n",
    "    \n",
    "    # eliminate the point we would like to eliminate\n",
    "    @constraint(model, B(pt_to_eliminate...) >= ϵ)\n",
    "    set_objective_sense(model, MOI.FEASIBILITY_SENSE)\n",
    "    \n",
    "    # maximize the sum of values for all test points\n",
    "    objective_fn = sum([B(pt...) for pt in test_pts])\n",
    "    @objective(model, Max, objective_fn) # keep as many points outside the barrier as you can\n",
    "    JuMP.optimize!(model)\n",
    "    stat = JuMP.primal_status(model)\n",
    "    if stat != FEASIBLE_POINT\n",
    "        return missing\n",
    "    end\n",
    "    # found feasible point\n",
    "    println(solution_summary(model))\n",
    "    lm = [lagrangian_multipliers(cons1)]\n",
    "    push!(lm, lagrangian_multipliers(cons2))\n",
    "    value(B), value(B_dot), lm\n",
    "end\n",
    "\n",
    "function refine_barrier_succ(x, u, bounds, u_bounds, g, vectorField, B, B_dot, ancestors; ϵ = 0.25, κ = 1.)\n",
    "    solver = optimizer_with_attributes(CSDP.Optimizer)\n",
    "    model = SOSModel(solver)\n",
    "    dom_list = prepare_domain(x, bounds)\n",
    "    dom_list_u = prepare_domain(u, u_bounds)\n",
    "    dom_list = append!(dom_list, dom_list_u)\n",
    "    dom = reduce( (s1, s2) -> s1 ∩ s2, dom_list)\n",
    "#     println(\"Domain: $dom\")\n",
    "    # negative inside the obstacle\n",
    "    monos = monomials(x, 0:max_degree)\n",
    "    N = length(monos) \n",
    "    @variable(model, η)\n",
    "    @variable(model, δ >=0)\n",
    "#     @variable(model, 0 <= B <= κ)\n",
    "#     @variable(model, B_dot)\n",
    "    \n",
    "    if size(ancestors)[1] >= 1\n",
    "        new_domain = dom ∩ (reduce(∩, [@set(b <= 0) for b in ancestors]))\n",
    "    else\n",
    "        new_domain = dom \n",
    "    end\n",
    "    \n",
    "    dom3 = new_domain ∩ @set(B >= 0) ∩ @set(B <= κ)\n",
    "    @constraint(model, -η*B - δ <= B_dot, domain=dom3)\n",
    "#     @constraint(model, -η*B - δ >= 0, domain=dom3)\n",
    "\n",
    "    #set_objective_sense(model, MOI.FEASIBILITY_SENSE)\n",
    "    @objective(model, Min, δ)\n",
    "    JuMP.optimize!(model)\n",
    "    stat = JuMP.primal_status(model)\n",
    "    if stat != FEASIBLE_POINT\n",
    "        return missing\n",
    "    end\n",
    "    # found feasible point\n",
    "    println(solution_summary(model))\n",
    "    println(\"η = $(value(η))\")\n",
    "    println(\"δ = $(value(δ))\")\n",
    "    τ = κ/(value(δ))\n",
    "    println(\"τd = $(value(τ))\")\n",
    "    return τ\n",
    "end"
   ]
  },
  {
   "cell_type": "code",
   "execution_count": null,
   "id": "cdb7f4df",
   "metadata": {
    "ExecuteTime": {
     "end_time": "2024-06-13T17:33:54.928000-06:00",
     "start_time": "2024-06-13T23:33:54.885Z"
    }
   },
   "outputs": [],
   "source": [
    "function compute_next_level_barriers(x::Vector{<:Variable}, u::Vector{<:Variable}, bounds::Vector{Vector{Float64}},\n",
    "                                    u_bounds::Vector{Vector{Float64}},\n",
    "                                    g::Polynomial, vectorField::Vector{<:Polynomial}, \n",
    "                                    U::Vector{Vector{Float64}}, test_pts::Vector{Vector{Float64}}, \n",
    "                                    ancestors::Vector{<:Polynomial}) \n",
    "    eliminated = []\n",
    "    second_level_barriers=[]\n",
    "    for (j,pt) in enumerate(test_pts) \n",
    "        if j in eliminated\n",
    "            # ignore the ones already eliminated\n",
    "            continue\n",
    "        end\n",
    "        # go through each control \n",
    "        for u_val in U\n",
    "            # generate a barrier \n",
    "            B = generate_successive_barrier(x, u, bounds, g, vectorField, u_val, test_pts, ancestors, pt)\n",
    "            # check if we found something\n",
    "            if !ismissing(B)\n",
    "                println(\"Bingo: Found $B\")\n",
    "                useful = false # check if it is actually useful\n",
    "                for (k,pt_new) in enumerate(test_pts)\n",
    "                    if k in eliminated\n",
    "                        continue\n",
    "                    end\n",
    "                   if (B[1](pt_new...) >= 0.)\n",
    "                    push!(eliminated, k)   \n",
    "                    println(\"\\t eliminated $pt_new\")\n",
    "                    useful=true\n",
    "                   end\n",
    "                end\n",
    "                if (useful)\n",
    "                    println(\"Num remaining = $(size(test_pts)[1] - size(eliminated)[1])\")\n",
    "                    t = refine_barrier_succ(x, u, bounds, u_bounds, g, vectorField, B[1],  B[2], ancestors)\n",
    "                    push!(second_level_barriers, (B[1], t, u_val, B[3]))\n",
    "                    break\n",
    "                end\n",
    "            end\n",
    "        end\n",
    "    end\n",
    "    new_test_pts = [pt for (j, pt) in enumerate(test_pts) if !(j in eliminated)]\n",
    "    return (second_level_barriers, new_test_pts)\n",
    "end"
   ]
  },
  {
   "cell_type": "code",
   "execution_count": null,
   "id": "dd8b96e6",
   "metadata": {
    "ExecuteTime": {
     "end_time": "2024-06-13T17:37:07.323000-06:00",
     "start_time": "2024-06-13T23:34:49.356Z"
    },
    "scrolled": true
   },
   "outputs": [],
   "source": [
    "ancestors = [B_1, B_2, B_3, B_4]\n",
    "s_elapsed = @elapsed begin\n",
    "(second_level_barriers, test_pts_1) = compute_next_level_barriers(x, u, bounds, u_bounds, g, vectorField, U, test_pts, ancestors)\n",
    "end"
   ]
  },
  {
   "cell_type": "code",
   "execution_count": null,
   "id": "bc118082",
   "metadata": {},
   "outputs": [],
   "source": [
    "all_barriers = [B for (B,_) in second_level_barriers]\n",
    "first_level = [B_1, B_2, B_3, B_4]"
   ]
  },
  {
   "cell_type": "markdown",
   "id": "0f18557b",
   "metadata": {},
   "source": [
    "# 3. Plots"
   ]
  },
  {
   "cell_type": "code",
   "execution_count": null,
   "id": "15abf5a6",
   "metadata": {
    "ExecuteTime": {
     "end_time": "2024-06-13T17:52:19.406000-06:00",
     "start_time": "2024-06-13T23:52:19.385Z"
    }
   },
   "outputs": [],
   "source": [
    "# plotting functions\n",
    "using LaTeXStrings\n",
    "function circleShape(x,y, r)\n",
    "    θ = LinRange(0, 2*π, 500)\n",
    "    x .+ r*cos.(θ), y .+ r*sin.(θ)\n",
    "end\n",
    "\n",
    "function plot_ci_region2lev(limits::Tuple{Float64,Float64}, lev1_barriers::Vector{<:Polynomial}, lev2_barriers::Vector{<:Polynomial}; x2_val = 0.0, x4_val = 0.0, δ = 0.1, filestem=\"ics\")\n",
    "    plot(xlims=limits, ylims=limits, xlabel=L\"x_1\", ylabel=L\"x_3\")\n",
    "    rectangle(w, h, x, y) = Shape(x .+ [0,w,w,0], y .+ [0,0,h,h])\n",
    "    for x in limits[1]:δ:limits[2]\n",
    "        for y in limits[1]:δ:limits[2]\n",
    "            if (any([ B(x, x2_val, y, x4_val) > 0. for B in lev1_barriers]))\n",
    "                plot!(rectangle(δ, δ, x-δ, y-δ), label=false, fill=:seagreen1, opacity=0.5,linecolor=:seagreen1)\n",
    "            else\n",
    "                if (any([ B(x, x2_val, y, x4_val) > 0. for B in lev2_barriers]))\n",
    "                    plot!(rectangle(δ, δ, x-δ, y-δ), label=false, fill=:limegreen, linecolor=:limegreen)\n",
    "                end \n",
    "            end\n",
    "        end\n",
    "    end\n",
    "    plot!(circleShape(0,0,1.0), seriestype =[:shape], lw=0.5, c=:black, linecolor=:black, legend=false, aspectratio=1  )\n",
    "    plot!(xlims=limits, ylims=limits)\n",
    "    filename=\"figures/$filestem.png\"\n",
    "    savefig(filename)\n",
    "    plot!(xlims=limits, ylims=limits)\n",
    "end\n"
   ]
  },
  {
   "cell_type": "code",
   "execution_count": null,
   "id": "bba44ba2",
   "metadata": {},
   "outputs": [],
   "source": [
    "plot_ci_region2lev((-10.0, 10.0), first_level, all_barriers; x2_val=0, x4_val=0, filestem=\"Figure6b-example-4d-barrier-0-ci\")"
   ]
  },
  {
   "cell_type": "code",
   "execution_count": null,
   "id": "8a9c87b0",
   "metadata": {
    "scrolled": true
   },
   "outputs": [],
   "source": [
    "plot_ci_region2lev((-10.0, 10.0), first_level, all_barriers; x2_val=-5, x4_val=-5, filestem=\"Figure6c-example-4d-barrier-1-c\")"
   ]
  },
  {
   "cell_type": "code",
   "execution_count": null,
   "id": "0f58df9e",
   "metadata": {},
   "outputs": [],
   "source": []
  },
  {
   "cell_type": "code",
   "execution_count": null,
   "id": "b2cfb5ad",
   "metadata": {
    "scrolled": true
   },
   "outputs": [],
   "source": [
    "# minimum transit time over all barriers\n",
    "\n",
    "t2=[]\n",
    "for i in second_level_barriers\n",
    "    if (!ismissing(i[2]))\n",
    "        t2 = append!(t2,i[2])\n",
    "    end\n",
    "end\n",
    "println(t2)\n",
    "t2 = filter(x -> x > 0, t2)\n",
    "print(minimum(t2))\n"
   ]
  },
  {
   "cell_type": "markdown",
   "id": "bfa373b9",
   "metadata": {},
   "source": [
    "# 4. Benchmarks"
   ]
  },
  {
   "cell_type": "code",
   "execution_count": null,
   "id": "28c1a54b",
   "metadata": {},
   "outputs": [],
   "source": [
    "# generating data for Table 1 in the paper (row for current system)"
   ]
  },
  {
   "cell_type": "code",
   "execution_count": null,
   "id": "d9152068",
   "metadata": {},
   "outputs": [],
   "source": [
    "println(\"Time taken for B1: $(elapsed1+elapsed2+elapsed3+elapsed4)\")\n",
    "println(\"# barriers B1: $(size(first_level))\")\n",
    "println(\"Time taken for B2: $(s_elapsed)\")\n",
    "println(\"# barriers B2: $(size(all_barriers))\")"
   ]
  },
  {
   "cell_type": "markdown",
   "id": "0ee58f0b",
   "metadata": {},
   "source": [
    "# 5. Verification"
   ]
  },
  {
   "cell_type": "code",
   "execution_count": null,
   "id": "384b9a21",
   "metadata": {},
   "outputs": [],
   "source": [
    "\"\"\"\n",
    "Certifying barriers using constraint PSD check\n",
    "\"\"\"\n",
    "\n",
    "using DelimitedFiles\n",
    "\n",
    "function check_psd_constraints(multipliers_array::Vector)\n",
    "    counter = 0\n",
    "    M = []\n",
    "    for mults in multipliers_array\n",
    "        for lms in mults\n",
    "            for lm in lms\n",
    "                if !isposdef(Matrix(lm.Q)) && !isposdef(Diagonal(svd(Matrix(lm.Q)).S))\n",
    "                    counter += 1\n",
    "                else \n",
    "#                     display(Matrix(lm.Q))\n",
    "                    push!(M, [Matrix(lm.Q)])\n",
    "                end\n",
    "            end\n",
    "        end\n",
    "    end\n",
    "    open(\"matrices_p5.txt\", \"w\") do io\n",
    "        writedlm(io, M)\n",
    "    end\n",
    "    if counter==0\n",
    "        println(\"All constraints are PSD: Barrier certified\")\n",
    "    else\n",
    "        println(\"PSD check failed!\")\n",
    "    end\n",
    "end"
   ]
  },
  {
   "cell_type": "code",
   "execution_count": null,
   "id": "336bf996",
   "metadata": {
    "scrolled": true
   },
   "outputs": [],
   "source": [
    "lms=[]\n",
    "for i in second_level_barriers\n",
    "    if (!ismissing(i[4]))\n",
    "        lms = append!(lms,i[4])\n",
    "    end\n",
    "end"
   ]
  },
  {
   "cell_type": "code",
   "execution_count": null,
   "id": "21b4b5b5",
   "metadata": {},
   "outputs": [],
   "source": [
    "check_psd_constraints([lm1,lm2, lm3, lm4, lms])"
   ]
  },
  {
   "cell_type": "code",
   "execution_count": null,
   "id": "e8aab58c",
   "metadata": {},
   "outputs": [],
   "source": []
  }
 ],
 "metadata": {
  "kernelspec": {
   "display_name": "Julia 1.10.0",
   "language": "julia",
   "name": "julia-1.10"
  },
  "language_info": {
   "file_extension": ".jl",
   "mimetype": "application/julia",
   "name": "julia",
   "version": "1.10.0"
  }
 },
 "nbformat": 4,
 "nbformat_minor": 5
}
