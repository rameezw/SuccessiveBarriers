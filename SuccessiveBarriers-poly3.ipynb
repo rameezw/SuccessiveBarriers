{
 "cells": [
  {
   "cell_type": "code",
   "execution_count": null,
   "id": "7ce73e0c",
   "metadata": {
    "ExecuteTime": {
     "end_time": "2024-06-13T17:31:45.979000-06:00"
    }
   },
   "outputs": [],
   "source": [
    "using DynamicPolynomials\n",
    "using SumOfSquares\n",
    "using CSDP\n",
    "using JuMP\n",
    "using Plots\n",
    "using LinearAlgebra\n",
    "using PyCall"
   ]
  },
  {
   "cell_type": "markdown",
   "id": "1062fdc0",
   "metadata": {},
   "source": [
    "# 0. Init system variable and parameters"
   ]
  },
  {
   "cell_type": "code",
   "execution_count": null,
   "id": "26aa3d76",
   "metadata": {
    "ExecuteTime": {
     "end_time": "2024-06-13T17:31:52.495000-06:00"
    }
   },
   "outputs": [],
   "source": [
    "#init state and input variables\n",
    "@polyvar x[1:2]\n",
    "@polyvar u[1:2]\n",
    "\n",
    "#define system dynamics\n",
    "vectorField = [ 0.5*x[1] - 0.2*x[2]  - 0.01 * x[1] * x[2] - 0.5 *u[1] + 0.5 * u[2], \n",
    "               x[1] -0.4*x[2] - 0.05 * x[2]^2  - 0.7 *u[2] + 0.1 * u[1] ] \n",
    "\n",
    "#define unsafe set (obstacle)\n",
    "g = 0.1^2 - x[1]^2 - x[2]^2\n",
    "\n",
    "#state and input bounds\n",
    "bounds = [[-10., 10.], [-10., 10.] ]"
   ]
  },
  {
   "cell_type": "code",
   "execution_count": null,
   "id": "b89e2935",
   "metadata": {
    "ExecuteTime": {
     "end_time": "2024-06-13T17:31:52.713000-06:00",
     "start_time": "2024-06-13T23:31:33.122Z"
    }
   },
   "outputs": [],
   "source": [
    "function prepare_domain(x::Vector{<:Variable}, bounds::Vector{Vector{Float64}})\n",
    "   poly_list = [ \n",
    "        @set(x[i] - l >= 0) ∩ @set(u - x[i] >= 0 ) ∩ @set((x[i] -l)*(u-x[i]) >= 0)\n",
    "        for (i, (l, u)) in enumerate(bounds)\n",
    "        ] \n",
    "   poly_list\n",
    "end"
   ]
  },
  {
   "cell_type": "code",
   "execution_count": null,
   "id": "bdd7b80e",
   "metadata": {
    "ExecuteTime": {
     "end_time": "2024-06-13T17:31:52.729000-06:00",
     "start_time": "2024-06-13T23:31:33.793Z"
    }
   },
   "outputs": [],
   "source": [
    "#instantiate parameters\n",
    "λ = 1\n",
    "ϵ = 1\n",
    "max_degree=4\n",
    "U = [[-0.05, -0.05], [-0.05, 0.05], [0.05, -0.05], [0.05, 0.05]]"
   ]
  },
  {
   "cell_type": "code",
   "execution_count": null,
   "id": "8c0e6a53",
   "metadata": {
    "ExecuteTime": {
     "end_time": "2024-06-13T17:31:52.968000-06:00",
     "start_time": "2024-06-13T23:31:34.529Z"
    }
   },
   "outputs": [],
   "source": [
    "# generate test points\n",
    "function get_random(limits::Vector{Vector{Float64}}, g::Polynomial)\n",
    "    function get_random_scalar(lb, ub )\n",
    "        lb + rand()*(ub - lb) \n",
    "    end\n",
    "    while (true)\n",
    "        pt = [get_random_scalar(l[1], l[2]) for l in limits]\n",
    "        if g(pt...) >= 0\n",
    "            continue\n",
    "        else\n",
    "            return pt\n",
    "        end\n",
    "    end\n",
    "end\n",
    "\n",
    "test_pts = [ get_random(bounds, g) for _ in 1:500];"
   ]
  },
  {
   "cell_type": "markdown",
   "id": "75288956",
   "metadata": {},
   "source": [
    "# 1. Computing initial set of barriers for each input U_i"
   ]
  },
  {
   "cell_type": "code",
   "execution_count": null,
   "id": "5e027499",
   "metadata": {
    "ExecuteTime": {
     "end_time": "2024-06-13T17:31:53.919000-06:00",
     "start_time": "2024-06-13T23:31:35.681Z"
    }
   },
   "outputs": [],
   "source": [
    "# function to generate initial barriers for each input\n",
    "\n",
    "function generate_barrier(x, u, bounds, g, vectorField, U, test_pts; max_degree=4,ϵ = 0.5, λ = 0.1, γ = 10.)\n",
    "    solver = optimizer_with_attributes(CSDP.Optimizer)\n",
    "    model = SOSModel(solver)\n",
    "    dom_list = prepare_domain(x, bounds)\n",
    "    dom = reduce( (s1, s2) -> s1 ∩ s2, dom_list)\n",
    "#     println(\"Domain: $dom\")\n",
    "    # negative inside the obstacle\n",
    "    monos = monomials(x, 0:max_degree)\n",
    "    N = length(monos) \n",
    "    @variable(model, -γ <= c[1:N] <= γ)\n",
    "    B = polynomial(c[1:end], monos) \n",
    "    @constraint(model, cons1, B <= -ϵ, domain=dom ∩ @set(g >= 0) )\n",
    "    B_dot = dot(differentiate(B,x), vectorField)\n",
    "    B_dot_with_u = subs(B_dot, u => U)\n",
    "    @constraint(model, cons2, B_dot_with_u >= λ * B, domain=dom)\n",
    "    set_objective_sense(model, MOI.FEASIBILITY_SENSE)\n",
    "    objective_fn = sum([B(pt...) for pt in test_pts])\n",
    "    @objective(model, Max, objective_fn) # keep as many points outside the barrier as you can\n",
    "    JuMP.optimize!(model)\n",
    "    #stat = JuMP.primal_status(model)\n",
    "    println(solution_summary(model))\n",
    "    lm = [lagrangian_multipliers(cons1)]\n",
    "    push!(lm, lagrangian_multipliers(cons2))\n",
    "    value(B), lm\n",
    "end"
   ]
  },
  {
   "cell_type": "code",
   "execution_count": null,
   "id": "320408ca",
   "metadata": {
    "ExecuteTime": {
     "end_time": "2024-06-13T17:32:37.436000-06:00",
     "start_time": "2024-06-13T23:32:35.412Z"
    }
   },
   "outputs": [],
   "source": [
    "elapsed1 = @elapsed begin\n",
    "B_00, lm00 = generate_barrier(x, u, bounds, g, vectorField, U[1], test_pts)\n",
    "end\n",
    "display(B_00)\n",
    "test_pts = filter!(pt -> B_00(pt...) <= 0., test_pts)"
   ]
  },
  {
   "cell_type": "code",
   "execution_count": null,
   "id": "02129f27",
   "metadata": {},
   "outputs": [],
   "source": [
    "elapsed2 = @elapsed begin\n",
    "B_01, lm01 = generate_barrier(x, u, bounds, g, vectorField, U[2], test_pts)\n",
    "end\n",
    "display(B_01)\n",
    "test_pts = filter!(pt -> B_01(pt...) <= 0., test_pts)"
   ]
  },
  {
   "cell_type": "code",
   "execution_count": null,
   "id": "b7a8974e",
   "metadata": {},
   "outputs": [],
   "source": [
    "elapsed3 = @elapsed begin\n",
    "B_10, lm10 = generate_barrier(x, u, bounds, g, vectorField, U[3], test_pts)\n",
    "end\n",
    "display(B_10)\n",
    "test_pts = filter!(pt -> B_10(pt...) <= 0., test_pts)"
   ]
  },
  {
   "cell_type": "code",
   "execution_count": null,
   "id": "209d3f2a",
   "metadata": {},
   "outputs": [],
   "source": [
    "elapsed4 = @elapsed begin\n",
    "B_11, lm11 = generate_barrier(x, u, bounds, g, vectorField, U[4], test_pts)\n",
    "end\n",
    "display(B_11)\n",
    "test_pts = filter!(pt -> B_11(pt...) <= 0., test_pts)"
   ]
  },
  {
   "cell_type": "markdown",
   "id": "4d888368",
   "metadata": {},
   "source": [
    "# 2. Computing Successive Barriers"
   ]
  },
  {
   "cell_type": "code",
   "execution_count": null,
   "id": "d208a18a",
   "metadata": {},
   "outputs": [],
   "source": [
    "# functions to compute successive barriers"
   ]
  },
  {
   "cell_type": "code",
   "execution_count": null,
   "id": "56cec9b4",
   "metadata": {
    "ExecuteTime": {
     "end_time": "2024-06-13T17:33:52.833000-06:00",
     "start_time": "2024-06-13T23:33:52.773Z"
    }
   },
   "outputs": [],
   "source": [
    "function generate_barrier(x, u, bounds, g, vectorField, U, test_pts; max_degree=4,ϵ = 0.25, λ = 0.1, γ = 10.)\n",
    "    solver = optimizer_with_attributes(CSDP.Optimizer)\n",
    "    model = SOSModel(solver)\n",
    "    dom_list = prepare_domain(x, bounds)\n",
    "    dom = reduce( (s1, s2) -> s1 ∩ s2, dom_list)\n",
    "#     println(\"Domain: $dom\")\n",
    "    # negative inside the obstacle\n",
    "    monos = monomials(x, 0:max_degree)\n",
    "    N = length(monos) \n",
    "    @variable(model, -γ <= c[1:N] <= γ)\n",
    "    B = polynomial(c[1:end], monos) \n",
    "    #negative inside the domain\n",
    "    @constraint(model, cons1, B <= -ϵ, domain=dom ∩ @set(g >= 0) )\n",
    "    B_dot = dot(differentiate(B,x), vectorField)\n",
    "    B_dot_with_u = subs(B_dot, u => U)\n",
    "    @constraint(model, cons2, B_dot_with_u >= λ * B, domain=dom)\n",
    "    set_objective_sense(model, MOI.FEASIBILITY_SENSE)\n",
    "    objective_fn = sum([B(pt...) for pt in test_pts])\n",
    "    @objective(model, Max, objective_fn) # keep as many points outside the barrier as you can\n",
    "    JuMP.optimize!(model)\n",
    "    stat = JuMP.primal_status(model)\n",
    "    if stat != FEASIBLE_POINT\n",
    "        return missing\n",
    "    end\n",
    "    # found feasible point\n",
    "    println(solution_summary(model))\n",
    "    lm = [lagrangian_multipliers(cons1)]\n",
    "    push!(lm, lagrangian_multipliers(cons2))\n",
    "    value(B), lm\n",
    "end\n",
    "\n",
    "function generate_successive_barrier(x::Vector{<:Variable}, u::Vector{<:Variable}, \n",
    "        bounds::Vector{Vector{Float64}}, g::Polynomial, \n",
    "        vectorField::Vector{<:Polynomial}, U::Vector{Float64}, \n",
    "        test_pts::Vector{Vector{Float64}}, ancestors::Vector{<:Polynomial}, \n",
    "        pt_to_eliminate::Vector{Float64}; \n",
    "        max_degree=4,ϵ = 1, λ = 1, γ = 10.)\n",
    "    solver = optimizer_with_attributes(CSDP.Optimizer, MOI.Silent() => true)\n",
    "    model = SOSModel(solver)\n",
    "    dom_list = prepare_domain(x, bounds)\n",
    "    dom = reduce( (s1, s2) -> s1 ∩ s2, dom_list)\n",
    "#     println(\"Domain: $dom\")\n",
    "\n",
    "    monos = monomials(x, 0:max_degree)\n",
    "    N = length(monos) \n",
    "    @variable(model, -γ <= c[1:N] <= γ)\n",
    "    B = polynomial(c[1:end], monos) \n",
    "    # negative inside the obstacle\n",
    "    @constraint(model, cons1, B <= -ϵ, domain=dom ∩ @set(g >= 0) )\n",
    "    \n",
    "    # dynamics constraints\n",
    "    B_dot = dot(differentiate(B,x), vectorField)\n",
    "    B_dot_with_u = subs(B_dot, u => U)\n",
    "    if size(ancestors)[1] >= 1\n",
    "        new_domain = dom ∩ (reduce(∩, [@set(B <= 0.) for B in ancestors]))\n",
    "    else\n",
    "        new_domain = dom \n",
    "    end\n",
    "    @constraint(model, cons2, B_dot_with_u >= λ * B, domain=new_domain)\n",
    "    \n",
    "    # eliminate the point we would like to eliminate\n",
    "    @constraint(model, B(pt_to_eliminate...) >= ϵ)\n",
    "    set_objective_sense(model, MOI.FEASIBILITY_SENSE)\n",
    "    \n",
    "    # maximize the sum of values for all test points\n",
    "    objective_fn = sum([B(pt...) for pt in test_pts])\n",
    "    @objective(model, Max, objective_fn) # keep as many points outside the barrier as you can\n",
    "    JuMP.optimize!(model)\n",
    "    stat = JuMP.primal_status(model)\n",
    "    if stat != FEASIBLE_POINT\n",
    "        return missing\n",
    "    end\n",
    "    # found feasible point\n",
    "    println(solution_summary(model))\n",
    "    lm = [lagrangian_multipliers(cons1)]\n",
    "    push!(lm, lagrangian_multipliers(cons2))\n",
    "    value(B), lm\n",
    "end\n",
    "\n",
    "function compute_next_level_barriers(x::Vector{<:Variable}, u::Vector{<:Variable}, bounds::Vector{Vector{Float64}}, \n",
    "                                    g::Polynomial, vectorField::Vector{<:Polynomial}, \n",
    "                                    u_val::Vector{Vector{Float64}}, test_pts::Vector{Vector{Float64}}, \n",
    "                                    ancestors::Vector{<:Polynomial}) \n",
    "    eliminated = []\n",
    "    second_level_barriers=[]\n",
    "    for (j,pt) in enumerate(test_pts) \n",
    "        if j in eliminated\n",
    "            # ignore the ones already eliminated\n",
    "            continue\n",
    "        end\n",
    "        # go through each control \n",
    "        for u_val in U\n",
    "            # generate a barrier \n",
    "            B = generate_successive_barrier(x, u, bounds, g, vectorField, u_val, test_pts, ancestors, pt)\n",
    "            # check if we found something\n",
    "            if !ismissing(B)\n",
    "                println(\"Bingo: Found $B\")\n",
    "                useful = false # check if it is actually useful\n",
    "                for (k,pt_new) in enumerate(test_pts)\n",
    "                    if k in eliminated\n",
    "                        continue\n",
    "                    end\n",
    "                   if (B[1](pt_new...) >= 0.)\n",
    "                    push!(eliminated, k)   \n",
    "                    println(\"\\t eliminated $pt_new\")\n",
    "                    useful=true\n",
    "                   end\n",
    "                end\n",
    "                if (useful)\n",
    "                    println(\"Num remaining = $(size(test_pts)[1] - size(eliminated)[1])\")\n",
    "                    push!(second_level_barriers, (B[1], u_val, B[2]))\n",
    "                    break\n",
    "                end\n",
    "            end\n",
    "        end\n",
    "    end\n",
    "    new_test_pts = [pt for (j, pt) in enumerate(test_pts) if !(j in eliminated)]\n",
    "    return (second_level_barriers, new_test_pts)\n",
    "end\n",
    "test_pts = [ get_random(bounds, g) for _ in 1:25];"
   ]
  },
  {
   "cell_type": "code",
   "execution_count": null,
   "id": "dd8b96e6",
   "metadata": {
    "ExecuteTime": {
     "end_time": "2024-06-13T17:37:07.323000-06:00",
     "start_time": "2024-06-13T23:34:49.356Z"
    },
    "scrolled": true
   },
   "outputs": [],
   "source": [
    "zero_level_barriers = [(B_00,U[1]),(B_01,U[2]),(B_10,U[3]),(B_11,U[4])]\n",
    "print(size(zero_level_barriers))\n",
    "ancestors = [B_00, B_01, B_10, B_11]\n",
    "s_elapsed = @elapsed begin\n",
    "(first_level_barriers, test_pts_1) = compute_next_level_barriers(x, u, bounds, g, vectorField, U, test_pts, ancestors)\n",
    "end"
   ]
  },
  {
   "cell_type": "code",
   "execution_count": null,
   "id": "bc118082",
   "metadata": {},
   "outputs": [],
   "source": []
  },
  {
   "cell_type": "code",
   "execution_count": null,
   "id": "19363f60",
   "metadata": {},
   "outputs": [],
   "source": [
    "ancestors1 = [B_00, B_01, B_10, B_11]\n",
    "ancestors2 = [B for (B,_) in first_level_barriers]\n",
    "ancestors = vcat(ancestors1, ancestors2)\n",
    "test_pts_1 = [ get_random(bounds, g) for _ in 1:25];\n",
    "(second_level_barriers, test_pts_2) = compute_next_level_barriers(x, u, bounds, g, vectorField, U, test_pts_1, ancestors)"
   ]
  },
  {
   "cell_type": "markdown",
   "id": "0f18557b",
   "metadata": {},
   "source": [
    "# 3. Plots"
   ]
  },
  {
   "cell_type": "code",
   "execution_count": null,
   "id": "15abf5a6",
   "metadata": {
    "ExecuteTime": {
     "end_time": "2024-06-13T17:52:19.406000-06:00",
     "start_time": "2024-06-13T23:52:19.385Z"
    }
   },
   "outputs": [],
   "source": [
    "# improvement in the control invariant region at level 3\n",
    "\n",
    "using Plots\n",
    "\n",
    "function make_contour_plot(B, limits,clr, legend=\"\")\n",
    "    x = range(limits[1], limits[2], length=500)\n",
    "    y = range(limits[1], limits[2], length=500)\n",
    "    z = @. B(x', y)\n",
    "    contour!(x, y, z,levels=[0.0, 0.0], color=clr, colorbar=false, labels=[legend])\n",
    "end\n",
    "\n",
    "limits=(-3., 3.)\n",
    "plot(xlims=limits, ylims=limits,showaxis = false)\n",
    "rectangle(w, h, x, y) = Shape(x .+ [0,w,w,0], y .+ [0,0,h,h])\n",
    "for x in -10.:.1:10\n",
    "    for y in -10:0.1:10\n",
    "        if ( B_00(x,y) > 0. || B_01(x,y) > 0.)\n",
    "            plot!(rectangle(0.1, 0.1, x, y), label=false, fill=:seagreen1, linecolor=:seagreen1,showaxis = false)\n",
    "        else\n",
    "            if (any( B(x,y) > 0. for (B,_) in first_level_barriers ) )\n",
    "                plot!(rectangle(0.1, 0.1, x, y), label=false, fill=:limegreen, linecolor=:limegreen,showaxis = false)\n",
    "            else\n",
    "                if (any(B(x,y) > 0. for (B,_) in second_level_barriers))\n",
    "                   plot!(rectangle(0.1, 0.1, x, y), label=false, fill=:darkgreen, linecolor=:darkgreen,showaxis = false)\n",
    "                end\n",
    "            end\n",
    "        end\n",
    "    end\n",
    "end\n",
    "make_contour_plot(g, limits,\"black\")\n",
    "plot!(xlims=limits, ylims=limits,showaxis = false)\n",
    "savefig(\"figures/Figure6a-example-2d-successive-approx.png\")\n",
    "plot!(xlims=limits, ylims=limits,showaxis = false)\n"
   ]
  },
  {
   "cell_type": "markdown",
   "id": "bfa373b9",
   "metadata": {},
   "source": [
    "# 4. Benchmarks"
   ]
  },
  {
   "cell_type": "code",
   "execution_count": null,
   "id": "28c1a54b",
   "metadata": {},
   "outputs": [],
   "source": [
    "# generating data for Table 1 in the paper (row for current system)"
   ]
  },
  {
   "cell_type": "code",
   "execution_count": null,
   "id": "d9152068",
   "metadata": {},
   "outputs": [],
   "source": [
    "println(\"Time taken for B1: $(elapsed1+elapsed2+elapsed3+elapsed4)\")\n",
    "println(\"# barriers B1: $(size(zero_level_barriers))\")\n",
    "println(\"Time taken for B2: $(s_elapsed)\")\n",
    "println(\"# barriers B2: $(size(first_level_barriers))\")"
   ]
  },
  {
   "cell_type": "code",
   "execution_count": null,
   "id": "88c42716",
   "metadata": {},
   "outputs": [],
   "source": [
    "# generating test points with fixed seed for evaluations (Table 2 in paper)\n",
    "\n",
    "function generate_random_points_fixed_seed(limits::Vector{Vector{Float64}}, g::Polynomial)\n",
    "     function get_random_scalar(lb, ub )\n",
    "        Random.seed!(1234)\n",
    "        lb + rand()*(ub - lb) \n",
    "     end\n",
    "     while (true)\n",
    "         pt = [get_random_scalar(l[1], l[2]) for l in limits]\n",
    "         if g(pt[1], pt[2]) >= 0\n",
    "             continue\n",
    "         else\n",
    "             return pt\n",
    "         end\n",
    "     end\n",
    "end\n",
    "test_pts_fixed_seed = [ get_random(bounds, g) for _ in 1:1000];"
   ]
  },
  {
   "cell_type": "code",
   "execution_count": null,
   "id": "391c87a2",
   "metadata": {},
   "outputs": [],
   "source": [
    "# functions for FOSSIL comparison (Table 2 in paper)\n",
    "\n",
    "py\"\"\"\n",
    "import math\n",
    "def eval_fossil_barrier(x0,x1):\n",
    "    barrier = (0.2642662525177002 + 0.32199999690055847 * pow((-0.39800000190734863 + (-0.46599999070167542 / (1 + math.exp((0.21400000154972076 - 0.80900001525878906 * x0 - 0.27700001001358032 * x1)))) + (-0.37900000810623169 / (1 + math.exp((0.36500000953674316 - 1.2089999914169312 * x0 - 0.53700000047683716 * x1)))) + (-0.375 / (1 + math.exp((0.72399997711181641 - 0.60100001096725464 * x0 - 1.3020000457763672 * x1)))) + (-0.29199999570846558 / (1 + math.exp((0.27399998903274536 + 1.0039999485015869 * x0 + 0.050999999046325684 * x1)))) + (-0.29199999570846558 / (1 + math.exp((0.29100000858306885 - 1.2630000114440918 * x0 - 0.4699999988079071 * x1)))) + (-0.2800000011920929 / (1 + math.exp((0.63599997758865356 - 1.2940000295639038 * x0 - 0.45199999213218689 * x1)))) + (-0.25699999928474426 / (1 + math.exp((1.2220000028610229 + 0.53299999237060547 * x0 - 0.38400000333786011 * x1)))) + (-0.1940000057220459 / (1 + math.exp((0.39100000262260437 + 1.0089999437332153 * x0 + 0.1550000011920929 * x1)))) + (-0.19200000166893005 / (1 + math.exp((1.1599999666213989 + 0.60699999332427979 * x0 + 0.30199998617172241 * x1)))) + (-0.096000000834465027 / (1 + math.exp((0.35100001096725464 + 0.85699999332427979 * x0 - 0.017999999225139618 * x1))))), 2) - 0.014000000432133675 * pow((-0.20800000429153442 + (-0.44299998879432678 / (1 + math.exp((1.2220000028610229 + 0.53299999237060547 * x0 - 0.38400000333786011 * x1)))) + (-0.41200000047683716 / (1 + math.exp((0.39100000262260437 + 1.0089999437332153 * x0 + 0.1550000011920929 * x1)))) + (-0.37299999594688416 / (1 + math.exp((0.35100001096725464 + 0.85699999332427979 * x0 - 0.017999999225139618 * x1)))) + (-0.125 / (1 + math.exp((0.27399998903274536 + 1.0039999485015869 * x0 + 0.050999999046325684 * x1)))) + (-0.11900000274181366 / (1 + math.exp((1.1599999666213989 + 0.60699999332427979 * x0 + 0.30199998617172241 * x1)))) + (-0.048999998718500137 / (1 + math.exp((0.21400000154972076 - 0.80900001525878906 * x0 - 0.27700001001358032 * x1)))) + (0.55299997329711914 / (1 + math.exp((0.29100000858306885 - 1.2630000114440918 * x0 - 0.4699999988079071 * x1)))) + (0.625 / (1 + math.exp((0.36500000953674316 - 1.2089999914169312 * x0 - 0.53700000047683716 * x1)))) + (0.76599997282028198 / (1 + math.exp((0.63599997758865356 - 1.2940000295639038 * x0 - 0.45199999213218689 * x1)))) + (0.87000000476837158 / (1 + math.exp((0.72399997711181641 - 0.60100001096725464 * x0 - 1.3020000457763672 * x1))))), 2) + 0.22300000488758087 * pow((-0.18299999833106995 + (-0.40200001001358032 / (1 + math.exp((1.2220000028610229 + 0.53299999237060547 * x0 - 0.38400000333786011 * x1)))) + (-0.3970000147819519 / (1 + math.exp((0.72399997711181641 - 0.60100001096725464 * x0 - 1.3020000457763672 * x1)))) + (-0.3619999885559082 / (1 + math.exp((0.21400000154972076 - 0.80900001525878906 * x0 - 0.27700001001358032 * x1)))) + (-0.30799999833106995 / (1 + math.exp((0.35100001096725464 + 0.85699999332427979 * x0 - 0.017999999225139618 * x1)))) + (-0.24799999594688416 / (1 + math.exp((0.36500000953674316 - 1.2089999914169312 * x0 - 0.53700000047683716 * x1)))) + (-0.22800000011920929 / (1 + math.exp((0.29100000858306885 - 1.2630000114440918 * x0 - 0.4699999988079071 * x1)))) + (-0.1940000057220459 / (1 + math.exp((1.1599999666213989 + 0.60699999332427979 * x0 + 0.30199998617172241 * x1)))) + (-0.17100000381469727 / (1 + math.exp((0.63599997758865356 - 1.2940000295639038 * x0 - 0.45199999213218689 * x1)))) + (-0.15000000596046448 / (1 + math.exp((0.27399998903274536 + 1.0039999485015869 * x0 + 0.050999999046325684 * x1)))) + (-0.094999998807907104 / (1 + math.exp((0.39100000262260437 + 1.0089999437332153 * x0 + 0.1550000011920929 * x1))))), 2) - 0.041999999433755875 * pow((-0.035999998450279236 + (-0.23100000619888306 / (1 + math.exp((0.27399998903274536 + 1.0039999485015869 * x0 + 0.050999999046325684 * x1)))) + (-0.16200000047683716 / (1 + math.exp((0.39100000262260437 + 1.0089999437332153 * x0 + 0.1550000011920929 * x1)))) + (-0.10700000077486038 / (1 + math.exp((1.1599999666213989 + 0.60699999332427979 * x0 + 0.30199998617172241 * x1)))) + (-0.081000000238418579 / (1 + math.exp((1.2220000028610229 + 0.53299999237060547 * x0 - 0.38400000333786011 * x1)))) + (-0.014000000432133675 / (1 + math.exp((0.21400000154972076 - 0.80900001525878906 * x0 - 0.27700001001358032 * x1)))) + (0.34799998998641968 / (1 + math.exp((0.35100001096725464 + 0.85699999332427979 * x0 - 0.017999999225139618 * x1)))) + (0.36000001430511475 / (1 + math.exp((0.63599997758865356 - 1.2940000295639038 * x0 - 0.45199999213218689 * x1)))) + (0.38299998641014099 / (1 + math.exp((0.72399997711181641 - 0.60100001096725464 * x0 - 1.3020000457763672 * x1)))) + (0.50499999523162842 / (1 + math.exp((0.36500000953674316 - 1.2089999914169312 * x0 - 0.53700000047683716 * x1)))) + (0.62800002098083496 / (1 + math.exp((0.29100000858306885 - 1.2630000114440918 * x0 - 0.4699999988079071 * x1))))), 2) + 0.23399999737739563 * pow((-0.023000000044703484 + (-0.50499999523162842 / (1 + math.exp((0.29100000858306885 - 1.2630000114440918 * x0 - 0.4699999988079071 * x1)))) + (-0.21400000154972076 / (1 + math.exp((0.36500000953674316 - 1.2089999914169312 * x0 - 0.53700000047683716 * x1)))) + (-0.12700000405311584 / (1 + math.exp((0.27399998903274536 + 1.0039999485015869 * x0 + 0.050999999046325684 * x1)))) + (-0.045000001788139343 / (1 + math.exp((1.1599999666213989 + 0.60699999332427979 * x0 + 0.30199998617172241 * x1)))) + (0.057999998331069946 / (1 + math.exp((0.72399997711181641 - 0.60100001096725464 * x0 - 1.3020000457763672 * x1)))) + (0.072999998927116394 / (1 + math.exp((0.63599997758865356 - 1.2940000295639038 * x0 - 0.45199999213218689 * x1)))) + (0.081000000238418579 / (1 + math.exp((0.21400000154972076 - 0.80900001525878906 * x0 - 0.27700001001358032 * x1)))) + (0.093000002205371857 / (1 + math.exp((0.39100000262260437 + 1.0089999437332153 * x0 + 0.1550000011920929 * x1)))) + (0.12800000607967377 / (1 + math.exp((0.35100001096725464 + 0.85699999332427979 * x0 - 0.017999999225139618 * x1)))) + (0.335999995470047 / (1 + math.exp((1.2220000028610229 + 0.53299999237060547 * x0 - 0.38400000333786011 * x1))))), 2) - 0.59700000286102295 * pow((0.0010000000474974513 + (-0.6940000057220459 / (1 + math.exp((0.27399998903274536 + 1.0039999485015869 * x0 + 0.050999999046325684 * x1)))) + (-0.5820000171661377 / (1 + math.exp((0.39100000262260437 + 1.0089999437332153 * x0 + 0.1550000011920929 * x1)))) + (-0.54400002956390381 / (1 + math.exp((1.1599999666213989 + 0.60699999332427979 * x0 + 0.30199998617172241 * x1)))) + (-0.45100000500679016 / (1 + math.exp((1.2220000028610229 + 0.53299999237060547 * x0 - 0.38400000333786011 * x1)))) + (-0.28499999642372131 / (1 + math.exp((0.35100001096725464 + 0.85699999332427979 * x0 - 0.017999999225139618 * x1)))) + (0.21500000357627869 / (1 + math.exp((0.21400000154972076 - 0.80900001525878906 * x0 - 0.27700001001358032 * x1)))) + (0.55199998617172241 / (1 + math.exp((0.29100000858306885 - 1.2630000114440918 * x0 - 0.4699999988079071 * x1)))) + (0.71100002527236938 / (1 + math.exp((0.72399997711181641 - 0.60100001096725464 * x0 - 1.3020000457763672 * x1)))) + (0.9869999885559082 / (1 + math.exp((0.36500000953674316 - 1.2089999914169312 * x0 - 0.53700000047683716 * x1)))) + (1.156999945640564 / (1 + math.exp((0.63599997758865356 - 1.2940000295639038 * x0 - 0.45199999213218689 * x1))))), 2) + 0.18999999761581421 * pow((0.029999999329447746 + (0.012000000104308128 / (1 + math.exp((0.39100000262260437 + 1.0089999437332153 * x0 + 0.1550000011920929 * x1)))) + (0.082000002264976501 / (1 + math.exp((0.27399998903274536 + 1.0039999485015869 * x0 + 0.050999999046325684 * x1)))) + (0.18799999356269836 / (1 + math.exp((1.1599999666213989 + 0.60699999332427979 * x0 + 0.30199998617172241 * x1)))) + (0.2070000022649765 / (1 + math.exp((0.35100001096725464 + 0.85699999332427979 * x0 - 0.017999999225139618 * x1)))) + (0.27700001001358032 / (1 + math.exp((1.2220000028610229 + 0.53299999237060547 * x0 - 0.38400000333786011 * x1)))) + (0.31999999284744263 / (1 + math.exp((0.36500000953674316 - 1.2089999914169312 * x0 - 0.53700000047683716 * x1)))) + (0.43000000715255737 / (1 + math.exp((0.29100000858306885 - 1.2630000114440918 * x0 - 0.4699999988079071 * x1)))) + (0.44999998807907104 / (1 + math.exp((0.72399997711181641 - 0.60100001096725464 * x0 - 1.3020000457763672 * x1)))) + (0.53799998760223389 / (1 + math.exp((0.21400000154972076 - 0.80900001525878906 * x0 - 0.27700001001358032 * x1)))) + (0.69999998807907104 / (1 + math.exp((0.63599997758865356 - 1.2940000295639038 * x0 - 0.45199999213218689 * x1))))), 2) + 0.27399998903274536 * pow((0.33000001311302185 + (0.02199999988079071 / (1 + math.exp((0.27399998903274536 + 1.0039999485015869 * x0 + 0.050999999046325684 * x1)))) + (0.035999998450279236 / (1 + math.exp((0.35100001096725464 + 0.85699999332427979 * x0 - 0.017999999225139618 * x1)))) + (0.090999998152256012 / (1 + math.exp((0.29100000858306885 - 1.2630000114440918 * x0 - 0.4699999988079071 * x1)))) + (0.1550000011920929 / (1 + math.exp((0.36500000953674316 - 1.2089999914169312 * x0 - 0.53700000047683716 * x1)))) + (0.17299999296665192 / (1 + math.exp((0.39100000262260437 + 1.0089999437332153 * x0 + 0.1550000011920929 * x1)))) + (0.22699999809265137 / (1 + math.exp((1.1599999666213989 + 0.60699999332427979 * x0 + 0.30199998617172241 * x1)))) + (0.29699999094009399 / (1 + math.exp((1.2220000028610229 + 0.53299999237060547 * x0 - 0.38400000333786011 * x1)))) + (0.33100000023841858 / (1 + math.exp((0.63599997758865356 - 1.2940000295639038 * x0 - 0.45199999213218689 * x1)))) + (0.40200001001358032 / (1 + math.exp((0.21400000154972076 - 0.80900001525878906 * x0 - 0.27700001001358032 * x1)))) + (0.5 / (1 + math.exp((0.72399997711181641 - 0.60100001096725464 * x0 - 1.3020000457763672 * x1))))), 2) + 0.24099999666213989 * pow((0.42599999904632568 + (0.10700000077486038 / (1 + math.exp((0.35100001096725464 + 0.85699999332427979 * x0 - 0.017999999225139618 * x1)))) + (0.1080000028014183 / (1 + math.exp((0.27399998903274536 + 1.0039999485015869 * x0 + 0.050999999046325684 * x1)))) + (0.12099999934434891 / (1 + math.exp((1.1599999666213989 + 0.60699999332427979 * x0 + 0.30199998617172241 * x1)))) + (0.14300000667572021 / (1 + math.exp((1.2220000028610229 + 0.53299999237060547 * x0 - 0.38400000333786011 * x1)))) + (0.23199999332427979 / (1 + math.exp((0.39100000262260437 + 1.0089999437332153 * x0 + 0.1550000011920929 * x1)))) + (0.37200000882148743 / (1 + math.exp((0.72399997711181641 - 0.60100001096725464 * x0 - 1.3020000457763672 * x1)))) + (0.40400001406669617 / (1 + math.exp((0.21400000154972076 - 0.80900001525878906 * x0 - 0.27700001001358032 * x1)))) + (0.42800000309944153 / (1 + math.exp((0.63599997758865356 - 1.2940000295639038 * x0 - 0.45199999213218689 * x1)))) + (0.48600000143051147 / (1 + math.exp((0.36500000953674316 - 1.2089999914169312 * x0 - 0.53700000047683716 * x1)))) + (0.56099998950958252 / (1 + math.exp((0.29100000858306885 - 1.2630000114440918 * x0 - 0.4699999988079071 * x1))))), 2) + 0.23199999332427979 * pow((0.45100000500679016 + (-0.14800000190734863 / (1 + math.exp((1.2220000028610229 + 0.53299999237060547 * x0 - 0.38400000333786011 * x1)))) + (-0.0030000000260770321 / (1 + math.exp((1.1599999666213989 + 0.60699999332427979 * x0 + 0.30199998617172241 * x1)))) + (0.017999999225139618 / (1 + math.exp((0.72399997711181641 - 0.60100001096725464 * x0 - 1.3020000457763672 * x1)))) + (0.064999997615814209 / (1 + math.exp((0.35100001096725464 + 0.85699999332427979 * x0 - 0.017999999225139618 * x1)))) + (0.089000001549720764 / (1 + math.exp((0.29100000858306885 - 1.2630000114440918 * x0 - 0.4699999988079071 * x1)))) + (0.1289999932050705 / (1 + math.exp((0.63599997758865356 - 1.2940000295639038 * x0 - 0.45199999213218689 * x1)))) + (0.13500000536441803 / (1 + math.exp((0.27399998903274536 + 1.0039999485015869 * x0 + 0.050999999046325684 * x1)))) + (0.23800000548362732 / (1 + math.exp((0.39100000262260437 + 1.0089999437332153 * x0 + 0.1550000011920929 * x1)))) + (0.53600001335144043 / (1 + math.exp((0.21400000154972076 - 0.80900001525878906 * x0 - 0.27700001001358032 * x1)))) + (0.64099997282028198 / (1 + math.exp((0.36500000953674316 - 1.2089999914169312 * x0 - 0.53700000047683716 * x1))))), 2))\n",
    "    return barrier\n",
    "\"\"\"\n",
    "fossil_eval = py\"eval_fossil_barrier\";\n",
    "\n",
    "function B_lex(state, zero_level_barriers, one_level_barriers, two_level_barriers)\n",
    "   b0, u0 = maximum([ (B(state...), u) for (B, u) in zero_level_barriers])\n",
    "   if (b0 >= 0)\n",
    "        return b0, u0\n",
    "    end\n",
    "   b1, u1 = maximum([ (B(state...), u) for (B, u) in one_level_barriers])\n",
    "   if (b1 >= 0)\n",
    "        return b1, u1\n",
    "    end\n",
    "   b2, u2 = maximum([ (B(state...), u) for (B, u) in two_level_barriers])\n",
    "   if (b2 >= 0)\n",
    "        return b2, u2\n",
    "   end\n",
    "   return max((b0, u0), (b1, u1), (b2, u2))\n",
    "end\n",
    "\n",
    "function fossil_comparisons(zero_level_barriers,first_level_barriers,second_level_barriers, fossil_eval, test_pts_fixed_seed)\n",
    "    counter = 0\n",
    "    counter_f = 0\n",
    "    counter_s = 0\n",
    "    counter_x = 0\n",
    "    for pt in test_pts_fixed_seed\n",
    "        c,_ = B_lex(pt, zero_level_barriers, first_level_barriers, second_level_barriers )\n",
    "        if (fossil_eval(pt[1],pt[2]))>=0 && -c < 0\n",
    "            counter = counter + 1\n",
    "        end\n",
    "        if (fossil_eval(pt[1],pt[2]))<0\n",
    "            counter_f = counter_f + 1\n",
    "        end\n",
    "        if (-c)<0\n",
    "            counter_s = counter_s + 1\n",
    "        end\n",
    "        if (fossil_eval(pt[1],pt[2]))<0 && -c >= 0\n",
    "            counter_x = counter_x + 1\n",
    "        end\n",
    "    end\n",
    "    println(\"Total test points: 1000\")\n",
    "    println(\"Safe in FOSSIL: $(counter)\")\n",
    "    println(\"Safe in Ours: $(counter_s)\")\n",
    "    println(\"Unsafe in FOSSIL and Safe in Ours: $(counter_f)\")\n",
    "    println(\"Safe in FOSSIL and Unsafe in Ours: $(counter_x)\")\n",
    "    \n",
    "    return counter_f, counter_s, counter, counter_x\n",
    "end"
   ]
  },
  {
   "cell_type": "code",
   "execution_count": null,
   "id": "6f0ed5fc",
   "metadata": {},
   "outputs": [],
   "source": [
    "fossil_comparisons(zero_level_barriers,first_level_barriers,second_level_barriers, fossil_eval, test_pts_fixed_seed)"
   ]
  },
  {
   "cell_type": "markdown",
   "id": "c55530e6",
   "metadata": {},
   "source": [
    "# 5. Verification"
   ]
  },
  {
   "cell_type": "code",
   "execution_count": null,
   "id": "92156b1b",
   "metadata": {},
   "outputs": [],
   "source": [
    "\"\"\"\n",
    "Certifying barriers using constraint PSD check\n",
    "\"\"\"\n",
    "\n",
    "using DelimitedFiles\n",
    "\n",
    "function check_psd_constraints(multipliers_array::Vector)\n",
    "    counter = 0\n",
    "    M = []\n",
    "    for mults in multipliers_array\n",
    "        for lms in mults\n",
    "            for lm in lms\n",
    "                if !isposdef(Matrix(lm.Q)) && !isposdef(Diagonal(svd(Matrix(lm.Q)).S))\n",
    "                    counter += 1\n",
    "                else \n",
    "#                     display(Matrix(lm.Q))\n",
    "                    push!(M, [Matrix(lm.Q)])\n",
    "                end\n",
    "            end\n",
    "        end\n",
    "    end\n",
    "    open(\"matrices_p3.txt\", \"w\") do io\n",
    "        writedlm(io, M)\n",
    "    end\n",
    "    if counter==0\n",
    "        println(\"All constraints are PSD: Barrier certified\")\n",
    "    else\n",
    "        println(\"PSD check failed!\")\n",
    "    end\n",
    "end"
   ]
  },
  {
   "cell_type": "code",
   "execution_count": null,
   "id": "554ff5b7",
   "metadata": {},
   "outputs": [],
   "source": [
    "all_barrier_plus = push!([first_level_barriers], second_level_barriers);"
   ]
  },
  {
   "cell_type": "code",
   "execution_count": null,
   "id": "ac43e7ad",
   "metadata": {},
   "outputs": [],
   "source": [
    "lms=[]\n",
    "for i in all_barrier_plus\n",
    "    if (!ismissing(i[1][3]))\n",
    "        lms = append!(lms,i[1][3])\n",
    "    end\n",
    "end"
   ]
  },
  {
   "cell_type": "code",
   "execution_count": null,
   "id": "90e721a9",
   "metadata": {},
   "outputs": [],
   "source": [
    "check_psd_constraints([lm00,lm01,lm10,lm11,lms])"
   ]
  },
  {
   "cell_type": "code",
   "execution_count": null,
   "id": "e8aab58c",
   "metadata": {},
   "outputs": [],
   "source": []
  },
  {
   "cell_type": "code",
   "execution_count": null,
   "id": "9e654c1f",
   "metadata": {},
   "outputs": [],
   "source": []
  }
 ],
 "metadata": {
  "kernelspec": {
   "display_name": "Julia 1.10.0",
   "language": "julia",
   "name": "julia-1.10"
  },
  "language_info": {
   "file_extension": ".jl",
   "mimetype": "application/julia",
   "name": "julia",
   "version": "1.10.0"
  }
 },
 "nbformat": 4,
 "nbformat_minor": 5
}
