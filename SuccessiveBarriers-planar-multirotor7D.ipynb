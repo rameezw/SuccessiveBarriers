{
 "cells": [
  {
   "cell_type": "code",
   "execution_count": null,
   "id": "7ce73e0c",
   "metadata": {
    "ExecuteTime": {
     "end_time": "2024-06-13T17:31:45.979000-06:00"
    }
   },
   "outputs": [],
   "source": [
    "include(\"BarrierSynthesis.jl\")"
   ]
  },
  {
   "cell_type": "markdown",
   "id": "1062fdc0",
   "metadata": {},
   "source": [
    "# 0. Init system variable and parameters"
   ]
  },
  {
   "cell_type": "code",
   "execution_count": null,
   "id": "26aa3d76",
   "metadata": {
    "ExecuteTime": {
     "end_time": "2024-06-13T17:31:52.495000-06:00"
    }
   },
   "outputs": [],
   "source": [
    "#init state and input variables\n",
    "@polyvar u[1:2]\n",
    "@polyvar(x[1:7]) # x[1] is x, x[2] is y, x[3] is vel_x, x[4] is vel_y, x[5] is θ, x[6] is ω, x[7] is error\n",
    "\n",
    "#define system dynamics\n",
    "dynamics = [\n",
    "        (ctrl -> [x[3],x[4], (ctrl[1]+ctrl[2])*(-2.0/π)*(x[5]+π)-0.2x[7], (ctrl[1]+ctrl[2])*((2.0/π)*(x[5] + π/2.0)-0.2x[7])-2, x[6], ctrl[1]-ctrl[2], 0.]),\n",
    "        (ctrl -> [x[3],x[4], (ctrl[1]+ctrl[2])*(2.0/π)*x[5]+0.2x[7], (ctrl[1]+ctrl[2])*((2.0/π)*(x[5] + π/2.0)-0.2x[7])-2, x[6], ctrl[1]-ctrl[2], 0.]),\n",
    "        (ctrl -> [x[3],x[4], (ctrl[1]+ctrl[2])*(2.0/π)*x[5]+0.2x[7], (ctrl[1]+ctrl[2])*((-2.0/π)*(x[5] - π/2.0)+0.2x[7])-2, x[6], ctrl[1]-ctrl[2], 0.]),\n",
    "        (ctrl -> [x[3],x[4], (ctrl[1]+ctrl[2])*(-2.0/π)*(x[5]-π)-0.2x[7], (ctrl[1]+ctrl[2])*((-2.0/π)*(x[5] - π/2.0)+0.2x[7])-2, x[6], ctrl[1]-ctrl[2], 0.]),\n",
    "    ]\n",
    "\n",
    "#define unsafe set (obstacle)\n",
    "g = 0.1^2 - x[1]^2 - x[2]^2 # Obstacle: is a (x,y) ball of radius 0.1 around origin\n",
    "\n",
    "#state and input bounds\n",
    "bounds = [[-10., 10.], [-10., 10.], [-10.,10.], [-10.,10.],[-π,π], [-10.,10.],[-1.,1.]]"
   ]
  },
  {
   "cell_type": "code",
   "execution_count": null,
   "id": "b89e2935",
   "metadata": {
    "ExecuteTime": {
     "end_time": "2024-06-13T17:31:52.713000-06:00",
     "start_time": "2024-06-13T23:31:33.122Z"
    }
   },
   "outputs": [],
   "source": [
    "vector_field = [\n",
    "        ([x[3],x[4], (u[1]+u[2])*(-2.0/π)*(x[5]+π)-0.2x[7], (u[1]+u[2])*((2.0/π)*(x[5] + π/2.0)-0.2x[7])-2, x[6], u[1]-u[2], 0.]),\n",
    "        ([x[3],x[4], (u[1]+u[2])*(2.0/π)*x[5]+0.2x[7], (u[1]+u[2])*((2.0/π)*(x[5] + π/2.0)-0.2x[7])-2, x[6], u[1]-u[2], 0.]),\n",
    "        ([x[3],x[4], (u[1]+u[2])*(2.0/π)*x[5]+0.2x[7], (u[1]+u[2])*((-2.0/π)*(x[5] - π/2.0)+0.2x[7])-2, x[6], u[1]-u[2], 0.]),\n",
    "        ([x[3],x[4], (u[1]+u[2])*(-2.0/π)*(x[5]-π)-0.2x[7], (u[1]+u[2])*((-2.0/π)*(x[5] - π/2.0)+0.2x[7])-2, x[6], u[1]-u[2], 0.]),\n",
    "]"
   ]
  },
  {
   "cell_type": "code",
   "execution_count": null,
   "id": "bdd7b80e",
   "metadata": {
    "ExecuteTime": {
     "end_time": "2024-06-13T17:31:52.729000-06:00",
     "start_time": "2024-06-13T23:31:33.793Z"
    }
   },
   "outputs": [],
   "source": [
    "#instantiate parameters\n",
    "λ = 1\n",
    "ϵ = 1\n",
    "max_degree=4\n",
    "ul = 2.\n",
    "U = [[0., 0.], [0., ul], [ul, 0.], [ul, ul]]\n",
    "n_tests = 400\n",
    "u_bounds = [[0, ul], [0, ul]]"
   ]
  },
  {
   "cell_type": "code",
   "execution_count": null,
   "id": "8c0e6a53",
   "metadata": {
    "ExecuteTime": {
     "end_time": "2024-06-13T17:31:52.968000-06:00",
     "start_time": "2024-06-13T23:31:34.529Z"
    }
   },
   "outputs": [],
   "source": [
    "# generate test points\n",
    "test_pts = [ get_random(bounds, g) for _ in 1:n_tests];"
   ]
  },
  {
   "cell_type": "markdown",
   "id": "75288956",
   "metadata": {},
   "source": [
    "# 1. Computing initial set of barriers for each input U_i"
   ]
  },
  {
   "cell_type": "code",
   "execution_count": null,
   "id": "97267cc0",
   "metadata": {},
   "outputs": [],
   "source": [
    "# function to comupte transit time for each barrier \n",
    "\n",
    "function refine_barrier(x, u, bounds, u_bounds, g, vectorField, B, B_dot; ϵ = 0.25, κ = 50.)\n",
    "    function prepare_domain_hybrid(var, lb, ub)\n",
    "        dom = @set(var >= lb) ∩ @set(var <= ub) ∩ @set( (var-lb)*(ub-var) >= 0)\n",
    "        return dom\n",
    "    end\n",
    "    solver = optimizer_with_attributes(CSDP.Optimizer)\n",
    "    model = SOSModel(solver)\n",
    "    dom_list = prepare_domain(x, bounds)\n",
    "    dom_list_u = prepare_domain(u, u_bounds)\n",
    "    dom_list = append!(dom_list, dom_list_u)\n",
    "    dom = reduce( (s1, s2) -> s1 ∩ s2, dom_list)\n",
    "#     println(\"Domain: $dom\")\n",
    "    # negative inside the obstacle\n",
    "    monos = monomials(x, 0:max_degree)\n",
    "    N = length(monos) \n",
    "    @variable(model, η)\n",
    "    @variable(model, δ >=0)\n",
    "#     @variable(model, 0 <= B <= κ)\n",
    "#     @variable(model, B_dot)\n",
    "    \n",
    "#     B_dot = dot(differentiate(B,x), vectorField)\n",
    "    dom3 = dom ∩ @set(B >= 0) ∩ @set(B <= κ)\n",
    "    for (j,B_dot_j) in enumerate(B_dot)\n",
    "        dom_j = prepare_domain_hybrid(x[4], (j-3) * π/2, (j-2) * π/2)\n",
    "        @constraint(model, -η*B - δ <= B_dot_j, domain=dom3 ∩ dom_j)\n",
    "    end\n",
    "        @constraint(model, η*κ + δ >= 0)\n",
    "\n",
    "    #set_objective_sense(model, MOI.FEASIBILITY_SENSE)\n",
    "    @objective(model, Min, δ)\n",
    "    JuMP.optimize!(model)\n",
    "    stat = JuMP.primal_status(model)\n",
    "    if stat != FEASIBLE_POINT\n",
    "        return missing\n",
    "    end\n",
    "    # found feasible point\n",
    "    println(solution_summary(model))\n",
    "    println(\"η = $(value(η))\")\n",
    "    println(\"δ = $(value(δ))\")\n",
    "    τ =  (κ)/max(value(δ),value(η) *  κ + value(δ))\n",
    "    println(\"τd = $(value(τ))\")\n",
    "    return τ\n",
    "end"
   ]
  },
  {
   "cell_type": "code",
   "execution_count": null,
   "id": "320408ca",
   "metadata": {
    "ExecuteTime": {
     "end_time": "2024-06-13T17:32:37.436000-06:00",
     "start_time": "2024-06-13T23:32:35.412Z"
    }
   },
   "outputs": [],
   "source": [
    "elapsed1 = @elapsed begin\n",
    "B_1, B_1d, lm1 = findBarrierFixedControlInput_HybridPM(x,U[1],g,dynamics,vector_field,test_pts)\n",
    "end\n",
    "display(B_1)\n",
    "t_1 = refine_barrier(x, u, bounds, u_bounds, g, dynamics, B_1,  B_1d)\n",
    "test_pts = filter!(pt -> B_1(pt...) <= 0., test_pts)"
   ]
  },
  {
   "cell_type": "code",
   "execution_count": null,
   "id": "02129f27",
   "metadata": {},
   "outputs": [],
   "source": [
    "elapsed2 = @elapsed begin\n",
    "B_2, B_2d, lm2 = findBarrierFixedControlInput_HybridPM(x,U[2],g,dynamics,vector_field,test_pts)\n",
    "end\n",
    "display(B_2)\n",
    "# display(B_2d)\n",
    "t_2 = refine_barrier(x, u, bounds, u_bounds, g, dynamics, B_2,  B_2d)\n",
    "test_pts = filter!(pt -> B_2(pt...) <= 0., test_pts)"
   ]
  },
  {
   "cell_type": "code",
   "execution_count": null,
   "id": "d2c06e4e",
   "metadata": {
    "ExecuteTime": {
     "end_time": "2024-06-13T20:16:20.689000-06:00",
     "start_time": "2024-06-14T02:15:32.412Z"
    }
   },
   "outputs": [],
   "source": [
    "elapsed3 = @elapsed begin\n",
    "B_3, B_3d, lm3 = findBarrierFixedControlInput_HybridPM(x,U[3],g,dynamics,vector_field,test_pts)\n",
    "end\n",
    "display(B_3)\n",
    "# display(B_3d)\n",
    "t_3 = refine_barrier(x, u, bounds, u_bounds, g, dynamics, B_3,  B_3d)\n",
    "test_pts = filter!(pt -> B_3(pt...) <= 0., test_pts)"
   ]
  },
  {
   "cell_type": "code",
   "execution_count": null,
   "id": "a5d12098",
   "metadata": {
    "ExecuteTime": {
     "end_time": "2024-06-13T20:16:25.377000-06:00",
     "start_time": "2024-06-14T02:15:32.418Z"
    }
   },
   "outputs": [],
   "source": [
    "test_pts = [ get_random(bounds, g) for _ in 1:50];\n",
    "elapsed4 = @elapsed begin\n",
    "B_4, B_4d, lm4 = findBarrierFixedControlInput_HybridPM(x,U[4],g,dynamics,vector_field,test_pts)\n",
    "end\n",
    "display(B_4)\n",
    "# display(B_4d)\n",
    "t_4 = refine_barrier(x, u, bounds, u_bounds, g, dynamics, B_4,  B_4d)\n",
    "test_pts = filter!(pt -> B_4(pt...) <= 0., test_pts)"
   ]
  },
  {
   "cell_type": "code",
   "execution_count": null,
   "id": "e740c07f",
   "metadata": {},
   "outputs": [],
   "source": []
  },
  {
   "cell_type": "code",
   "execution_count": null,
   "id": "4a848316",
   "metadata": {},
   "outputs": [],
   "source": []
  },
  {
   "cell_type": "markdown",
   "id": "4d888368",
   "metadata": {},
   "source": [
    "# 2. Computing Successive Barriers"
   ]
  },
  {
   "cell_type": "code",
   "execution_count": null,
   "id": "d208a18a",
   "metadata": {},
   "outputs": [],
   "source": [
    "# functions to compute successive barriers"
   ]
  },
  {
   "cell_type": "code",
   "execution_count": null,
   "id": "56cec9b4",
   "metadata": {
    "ExecuteTime": {
     "end_time": "2024-06-13T17:33:52.833000-06:00",
     "start_time": "2024-06-13T23:33:52.773Z"
    }
   },
   "outputs": [],
   "source": [
    "function refine_barrier_succ(x, u, bounds, u_bounds, g, vectorField, B, B_dot, ancestors; ϵ = 0.25, κ = 50.)\n",
    "    function prepare_domain_hybrid(var, lb, ub)\n",
    "        dom = @set(var >= lb) ∩ @set(var <= ub) ∩ @set( (var-lb)*(ub-var) >= 0)\n",
    "        return dom\n",
    "    end\n",
    "    solver = optimizer_with_attributes(CSDP.Optimizer)\n",
    "    model = SOSModel(solver)\n",
    "    dom_list = prepare_domain(x, bounds)\n",
    "    dom_list_u = prepare_domain(u, u_bounds)\n",
    "    dom_list = append!(dom_list, dom_list_u)\n",
    "    dom = reduce( (s1, s2) -> s1 ∩ s2, dom_list)\n",
    "#     println(\"Domain: $dom\")\n",
    "    # negative inside the obstacle\n",
    "    monos = monomials(x, 0:max_degree)\n",
    "    N = length(monos) \n",
    "    @variable(model, η)\n",
    "    @variable(model, δ >=0)\n",
    "#     @variable(model, 0 <= B <= κ)\n",
    "#     @variable(model, B_dot)\n",
    "    \n",
    "#     B_dot = dot(differentiate(B,x), vectorField)\n",
    "    if size(ancestors)[1] >= 1\n",
    "        new_domain = dom ∩ (reduce(∩, [@set(b <= 0) for b in ancestors]))\n",
    "    else\n",
    "        new_domain = dom \n",
    "    end\n",
    "    \n",
    "    dom3 = dom ∩ @set(B >= 0) ∩ @set(B <= κ)\n",
    "    for (j,B_dot_j) in enumerate(B_dot)\n",
    "        dom_j = prepare_domain_hybrid(x[4], (j-3) * π/2, (j-2) * π/2)\n",
    "        @constraint(model, -η*B - δ <= B_dot_j, domain=dom3 ∩ dom_j)\n",
    "    end\n",
    "        @constraint(model, η*κ + δ >= 0)\n",
    "\n",
    "    #set_objective_sense(model, MOI.FEASIBILITY_SENSE)\n",
    "    @objective(model, Min, δ)\n",
    "    JuMP.optimize!(model)\n",
    "    stat = JuMP.primal_status(model)\n",
    "    if stat != FEASIBLE_POINT\n",
    "        return missing\n",
    "    end\n",
    "    # found feasible point\n",
    "    println(solution_summary(model))\n",
    "    println(\"η = $(value(η))\")\n",
    "    println(\"δ = $(value(δ))\")\n",
    "    τ =  (κ)/max(value(δ),value(η) *  κ + value(δ))\n",
    "    println(\"τd = $(value(τ))\")\n",
    "    return τ\n",
    "end"
   ]
  },
  {
   "cell_type": "code",
   "execution_count": null,
   "id": "dd8b96e6",
   "metadata": {
    "ExecuteTime": {
     "end_time": "2024-06-13T17:37:07.323000-06:00",
     "start_time": "2024-06-13T23:34:49.356Z"
    },
    "scrolled": true
   },
   "outputs": [],
   "source": [
    "ancestors = [B_1, B_2, B_3, B_4]\n",
    "s_elapsed = @elapsed begin\n",
    "(second_level_barriers, test_pts_1) = compute_next_level_barriersPM(x, u, bounds, g, dynamics, vector_field, U, test_pts, ancestors)\n",
    "end"
   ]
  },
  {
   "cell_type": "code",
   "execution_count": null,
   "id": "bc118082",
   "metadata": {},
   "outputs": [],
   "source": [
    "all_barriers = [B for (B,_) in second_level_barriers];\n",
    "first_level = [B_1, B_2, B_3, B_4];"
   ]
  },
  {
   "cell_type": "code",
   "execution_count": null,
   "id": "434c339e",
   "metadata": {
    "ExecuteTime": {
     "end_time": "2024-06-13T17:40:12.380000-06:00",
     "start_time": "2024-06-13T23:38:43.677Z"
    }
   },
   "outputs": [],
   "source": [
    "test_pts_1 = [ get_random(bounds, g) for _ in 1:25];\n",
    "ancestors2 = [ancestors; all_barriers];\n",
    "(third_level_barriers, test_pts_2) = compute_next_level_barriersPM(x, u, bounds, g, dynamics, vector_field, U, test_pts, ancestors)"
   ]
  },
  {
   "cell_type": "markdown",
   "id": "bfa373b9",
   "metadata": {},
   "source": [
    "# 3. Benchmarks"
   ]
  },
  {
   "cell_type": "code",
   "execution_count": null,
   "id": "28c1a54b",
   "metadata": {},
   "outputs": [],
   "source": [
    "# generating data for Table 1 in the paper (row for current system)"
   ]
  },
  {
   "cell_type": "code",
   "execution_count": null,
   "id": "d9152068",
   "metadata": {
    "scrolled": true
   },
   "outputs": [],
   "source": [
    "println(\"Time taken for B1: $(elapsed1+elapsed2+elapsed3+elapsed4)\")\n",
    "println(\"# barriers B1: $(size(first_level))\")\n",
    "println(\"Time taken for B2: $(s_elapsed)\")\n",
    "println(\"# barriers B2: $(size(all_barriers))\")"
   ]
  },
  {
   "cell_type": "markdown",
   "id": "0ee58f0b",
   "metadata": {},
   "source": [
    "# 5. Verification"
   ]
  },
  {
   "cell_type": "code",
   "execution_count": null,
   "id": "384b9a21",
   "metadata": {},
   "outputs": [],
   "source": [
    "\"\"\"\n",
    "Certifying barriers using constraint PSD check\n",
    "\"\"\"\n",
    "\n",
    "using DelimitedFiles\n",
    "\n",
    "function check_psd_constraints(multipliers_array::Vector)\n",
    "    counter = 0\n",
    "    M = []\n",
    "    for mults in multipliers_array\n",
    "        for lms in mults\n",
    "            for lm in lms\n",
    "                if !isposdef(Matrix(lm.Q)) && !isposdef(Diagonal(svd(Matrix(lm.Q)).S))\n",
    "                    counter += 1\n",
    "                else \n",
    "#                     display(Matrix(lm.Q))\n",
    "                    push!(M, [Matrix(lm.Q)])\n",
    "                end\n",
    "            end\n",
    "        end\n",
    "    end\n",
    "    open(\"matrices_pm.txt\", \"w\") do io\n",
    "        writedlm(io, M)\n",
    "    end\n",
    "    if counter==0\n",
    "        println(\"All constraints are PSD: Barrier certified\")\n",
    "    else\n",
    "        println(\"PSD check failed!\")\n",
    "    end\n",
    "end"
   ]
  },
  {
   "cell_type": "code",
   "execution_count": null,
   "id": "c6e098c4",
   "metadata": {},
   "outputs": [],
   "source": [
    "all_barrier_plus = push!([second_level_barriers], third_level_barriers);"
   ]
  },
  {
   "cell_type": "code",
   "execution_count": null,
   "id": "336bf996",
   "metadata": {},
   "outputs": [],
   "source": [
    "lms=[]\n",
    "for i in all_barrier_plus\n",
    "    if (!ismissing(i[1][4]))\n",
    "        lms = append!(lms,i[1][4])\n",
    "    end\n",
    "end"
   ]
  },
  {
   "cell_type": "code",
   "execution_count": null,
   "id": "21b4b5b5",
   "metadata": {
    "scrolled": false
   },
   "outputs": [],
   "source": [
    "check_psd_constraints([lm1,lm2, lm3, lm4, lms])"
   ]
  },
  {
   "cell_type": "code",
   "execution_count": null,
   "id": "e8aab58c",
   "metadata": {},
   "outputs": [],
   "source": []
  }
 ],
 "metadata": {
  "kernelspec": {
   "display_name": "Julia 1.10.0",
   "language": "julia",
   "name": "julia-1.10"
  },
  "language_info": {
   "file_extension": ".jl",
   "mimetype": "application/julia",
   "name": "julia",
   "version": "1.10.0"
  }
 },
 "nbformat": 4,
 "nbformat_minor": 5
}
